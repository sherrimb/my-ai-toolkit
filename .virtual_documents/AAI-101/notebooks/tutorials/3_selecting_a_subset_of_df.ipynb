import pandas as pd





titanic = pd.read_csv("../../data/titanic.csv")
titanic.head() # note that i have named the DataFrame 'tc' for 'titanic'









ages = titanic["Age"]
print(ages)





type(ages)





ages.shape








age_sex = titanic[["Age","Sex"]]


age_sex.head(7)





type(titanic[["Age", "Sex"]])


titanic[["Age", "Sex"]].shape













above_35 = titanic[titanic["Age"]>35]
above_35.head()






titanic["Age"] > 35





above_35.shape






class_23 = titanic[titanic["Pclass"].isin([2,3])]
class_23.head()





# i.e.
class_23 = titanic[(titanic["Pclass"] == 2) | (titanic["Pclass"] == 3)]


class_23.head()
class_23.shape





age_no_na = titanic[titanic["Age"].notna()]
age_no_na.head()





age_no_na.shape









adult_names = titanic.loc[titanic["Age"]> 35, "Name"]
adult_names.head()





titanic.iloc[9:25, 2:5] # as standard in python, the selection range is end-exclusive i.e. only up to the 24th row and 4 column will be displayed 





titanic.iloc[0:3, 3] = "anonymous"


titanic.head()





# df.iloc[500]
# returns the 501st row (indexing starts from 0). Note that specifying a dimension for the columns is optional.
# df.iloc[500, 3]
# retrieves the 501st row, column number 3. Multiple columns can also be specified:
# df.iloc[500, [0,1,3]]
# This is done using a list within the column dimension.

# Slicing is also possible.
# df.iloc[:500, [0,1,3]]
# shows the first 500 rows for columns 0, 1, and 3. Note: Observations with row number 501 are excluded because slicing excludes the last number (i.e.,
# :500
# means from 0 to 499).

 

# The distinction with
# loc
# lies in its use of indexes.
# df.loc[:500]
# could yield the same results as
# df.iloc[:500]
# if indexes are integers in ascending order. However, if any index differs from the integer ordering, the results will not match. Dates can also be used as indexes.

 

# Note: Slicing with
# loc
# includes both the starting and ending points (unlike
# iloc
# , which excludes the ending point).






















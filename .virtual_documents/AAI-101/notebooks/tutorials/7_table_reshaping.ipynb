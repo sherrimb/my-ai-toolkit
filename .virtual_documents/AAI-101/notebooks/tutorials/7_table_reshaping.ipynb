





import pandas as pd



titanic = pd.read_csv("../../data/titanic.csv")


titanic.head()


air_quality = pd.read_csv("../../air_quality_datasets/air_quality_long.csv", index_col="date.utc", parse_dates=True)


air_quality.head()





titanic.sort_values(by="Age").head(10)





titanic.sort_values(by=['Pclass', 'Age'], ascending=False).head()








#filter for no2 data only
no2 = air_quality[air_quality["parameter"] == "no2"]
no2


# use 2 measurements (head) for each location (groupby)
no2_subset = no2.sort_index().groupby(["location"]).head(2)




no2_subset








no2_subset.pivot(columns="location",values="value")





no2.head()


no2.pivot(columns="location", values="value").plot()











air_quality.pivot_table(
    values="value", index="location", columns="parameter", aggfunc="mean"
)





air_quality.pivot_table(
    values="value",
    index="location",
    columns="parameter",
    aggfunc="mean",
    margins=True
)





air_quality.groupby(["parameter", "location"])[["value"]].mean()





no2_pivoted = no2.pivot(columns="location", values="value").reset_index()


no2_pivoted.head()








no_2= no2_pivoted.melt(id_vars="date.utc")
no_2.head()





no_2 = no2_pivoted.melt(
    id_vars="date.utc",
    value_vars=["BETR801", "FR04014", "London Westminster"],
    value_name="NO_2",
    var_name="id_location",
)


no_2.head()











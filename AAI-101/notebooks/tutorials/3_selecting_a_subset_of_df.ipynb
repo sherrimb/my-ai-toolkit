{
 "cells": [
  {
   "cell_type": "code",
   "execution_count": 1,
   "id": "f1733708-e255-4bce-9416-91cb85eb38fc",
   "metadata": {},
   "outputs": [],
   "source": [
    "import pandas as pd"
   ]
  },
  {
   "cell_type": "markdown",
   "id": "6813085c-47d5-49f1-b745-9ba3aef4a3a2",
   "metadata": {},
   "source": [
    "This tutorial uses the Titanic data set, stored as CSV. The data consists of the following data columns:\n",
    "\n",
    "* PassengerId: Id of every passenger.\n",
    "\n",
    "* Survived: Indication whether passenger survived. 0 for yes and 1 for no.\n",
    "\n",
    "* Pclass: One out of the 3 ticket classes: Class 1, Class 2 and Class 3.\n",
    "\n",
    "* Name: Name of passenger.\n",
    "\n",
    "* Sex: Gender of passenger.\n",
    "\n",
    "* Age: Age of passenger in years.\n",
    "\n",
    "* SibSp: Number of siblings or spouses aboard.\n",
    "\n",
    "* Parch: Number of parents or children aboard.\n",
    "\n",
    "* Ticket: Ticket number of passenger.\n",
    "\n",
    "* Fare: Indicating the fare.\n",
    "\n",
    "* Cabin: Cabin number of passenger.\n",
    "\n",
    "* Embarked: Port of embarkation."
   ]
  },
  {
   "cell_type": "code",
   "execution_count": 2,
   "id": "f1d5fd47-d25b-4e65-829b-2450868c468c",
   "metadata": {},
   "outputs": [
    {
     "data": {
      "text/html": [
       "<div>\n",
       "<style scoped>\n",
       "    .dataframe tbody tr th:only-of-type {\n",
       "        vertical-align: middle;\n",
       "    }\n",
       "\n",
       "    .dataframe tbody tr th {\n",
       "        vertical-align: top;\n",
       "    }\n",
       "\n",
       "    .dataframe thead th {\n",
       "        text-align: right;\n",
       "    }\n",
       "</style>\n",
       "<table border=\"1\" class=\"dataframe\">\n",
       "  <thead>\n",
       "    <tr style=\"text-align: right;\">\n",
       "      <th></th>\n",
       "      <th>PassengerId</th>\n",
       "      <th>Survived</th>\n",
       "      <th>Pclass</th>\n",
       "      <th>Name</th>\n",
       "      <th>Sex</th>\n",
       "      <th>Age</th>\n",
       "      <th>SibSp</th>\n",
       "      <th>Parch</th>\n",
       "      <th>Ticket</th>\n",
       "      <th>Fare</th>\n",
       "      <th>Cabin</th>\n",
       "      <th>Embarked</th>\n",
       "    </tr>\n",
       "  </thead>\n",
       "  <tbody>\n",
       "    <tr>\n",
       "      <th>0</th>\n",
       "      <td>1</td>\n",
       "      <td>0</td>\n",
       "      <td>3</td>\n",
       "      <td>Braund, Mr. Owen Harris</td>\n",
       "      <td>male</td>\n",
       "      <td>22.0</td>\n",
       "      <td>1</td>\n",
       "      <td>0</td>\n",
       "      <td>A/5 21171</td>\n",
       "      <td>7.2500</td>\n",
       "      <td>NaN</td>\n",
       "      <td>S</td>\n",
       "    </tr>\n",
       "    <tr>\n",
       "      <th>1</th>\n",
       "      <td>2</td>\n",
       "      <td>1</td>\n",
       "      <td>1</td>\n",
       "      <td>Cumings, Mrs. John Bradley (Florence Briggs Th...</td>\n",
       "      <td>female</td>\n",
       "      <td>38.0</td>\n",
       "      <td>1</td>\n",
       "      <td>0</td>\n",
       "      <td>PC 17599</td>\n",
       "      <td>71.2833</td>\n",
       "      <td>C85</td>\n",
       "      <td>C</td>\n",
       "    </tr>\n",
       "    <tr>\n",
       "      <th>2</th>\n",
       "      <td>3</td>\n",
       "      <td>1</td>\n",
       "      <td>3</td>\n",
       "      <td>Heikkinen, Miss Laina</td>\n",
       "      <td>female</td>\n",
       "      <td>26.0</td>\n",
       "      <td>0</td>\n",
       "      <td>0</td>\n",
       "      <td>STON/O2. 3101282</td>\n",
       "      <td>7.9250</td>\n",
       "      <td>NaN</td>\n",
       "      <td>S</td>\n",
       "    </tr>\n",
       "    <tr>\n",
       "      <th>3</th>\n",
       "      <td>4</td>\n",
       "      <td>1</td>\n",
       "      <td>1</td>\n",
       "      <td>Futrelle, Mrs. Jacques Heath (Lily May Peel)</td>\n",
       "      <td>female</td>\n",
       "      <td>35.0</td>\n",
       "      <td>1</td>\n",
       "      <td>0</td>\n",
       "      <td>113803</td>\n",
       "      <td>53.1000</td>\n",
       "      <td>C123</td>\n",
       "      <td>S</td>\n",
       "    </tr>\n",
       "    <tr>\n",
       "      <th>4</th>\n",
       "      <td>5</td>\n",
       "      <td>0</td>\n",
       "      <td>3</td>\n",
       "      <td>Allen, Mr. William Henry</td>\n",
       "      <td>male</td>\n",
       "      <td>35.0</td>\n",
       "      <td>0</td>\n",
       "      <td>0</td>\n",
       "      <td>373450</td>\n",
       "      <td>8.0500</td>\n",
       "      <td>NaN</td>\n",
       "      <td>S</td>\n",
       "    </tr>\n",
       "  </tbody>\n",
       "</table>\n",
       "</div>"
      ],
      "text/plain": [
       "   PassengerId  Survived  Pclass  \\\n",
       "0            1         0       3   \n",
       "1            2         1       1   \n",
       "2            3         1       3   \n",
       "3            4         1       1   \n",
       "4            5         0       3   \n",
       "\n",
       "                                                Name     Sex   Age  SibSp  \\\n",
       "0                            Braund, Mr. Owen Harris    male  22.0      1   \n",
       "1  Cumings, Mrs. John Bradley (Florence Briggs Th...  female  38.0      1   \n",
       "2                              Heikkinen, Miss Laina  female  26.0      0   \n",
       "3       Futrelle, Mrs. Jacques Heath (Lily May Peel)  female  35.0      1   \n",
       "4                           Allen, Mr. William Henry    male  35.0      0   \n",
       "\n",
       "   Parch            Ticket     Fare Cabin Embarked  \n",
       "0      0         A/5 21171   7.2500   NaN        S  \n",
       "1      0          PC 17599  71.2833   C85        C  \n",
       "2      0  STON/O2. 3101282   7.9250   NaN        S  \n",
       "3      0            113803  53.1000  C123        S  \n",
       "4      0            373450   8.0500   NaN        S  "
      ]
     },
     "execution_count": 2,
     "metadata": {},
     "output_type": "execute_result"
    }
   ],
   "source": [
    "titanic = pd.read_csv(\"../../data/titanic.csv\")\n",
    "titanic.head() # note that i have named the DataFrame 'tc' for 'titanic'\n"
   ]
  },
  {
   "attachments": {
    "ac9535f8-e975-4e4d-bb3d-bf5c4c5d6f42.png": {
     "image/png": "[encoded data removed]"
    }
   },
   "cell_type": "markdown",
   "id": "cefdd880-3525-470b-8b8a-d755f8961e7b",
   "metadata": {},
   "source": [
    "## How do I select a subset of a DataFrame?\n",
    "#### How do I select specific columns from a DataFrame?\n",
    "\n",
    "![image.png](attachment:ac9535f8-e975-4e4d-bb3d-bf5c4c5d6f42.png)"
   ]
  },
  {
   "cell_type": "markdown",
   "id": "456b4058-e59a-4351-89f1-e10f711d096f",
   "metadata": {},
   "source": [
    "I’m interested in the age of the Titanic passengers."
   ]
  },
  {
   "cell_type": "code",
   "execution_count": 3,
   "id": "6376347a-7a30-4236-b532-21959e4d859f",
   "metadata": {},
   "outputs": [
    {
     "name": "stdout",
     "output_type": "stream",
     "text": [
      "0      22.0\n",
      "1      38.0\n",
      "2      26.0\n",
      "3      35.0\n",
      "4      35.0\n",
      "       ... \n",
      "886    27.0\n",
      "887    19.0\n",
      "888     NaN\n",
      "889    26.0\n",
      "890    32.0\n",
      "Name: Age, Length: 891, dtype: float64\n"
     ]
    }
   ],
   "source": [
    "ages = titanic[\"Age\"]\n",
    "print(ages)"
   ]
  },
  {
   "cell_type": "markdown",
   "id": "49e12d4b-7585-4bf7-aad2-c420c48f1d9c",
   "metadata": {},
   "source": [
    "To select a single column, use square brackets [] with the column name of the column of interest. \n",
    "Each column in a DataFrame is a Series. As a single column is selected, the returned object is a pandas Series. We can verify this by checking the type of the output:"
   ]
  },
  {
   "cell_type": "code",
   "execution_count": 4,
   "id": "0022b50d-4a53-4092-80d7-bb36a3912780",
   "metadata": {},
   "outputs": [
    {
     "data": {
      "text/plain": [
       "pandas.core.series.Series"
      ]
     },
     "execution_count": 4,
     "metadata": {},
     "output_type": "execute_result"
    }
   ],
   "source": [
    "type(ages)"
   ]
  },
  {
   "cell_type": "markdown",
   "id": "a8439c61-aa07-4024-a523-ae60aef73e1b",
   "metadata": {},
   "source": [
    "And we can have a look at the shape of the output:"
   ]
  },
  {
   "cell_type": "code",
   "execution_count": 5,
   "id": "657ca80a-bead-41e0-b813-7f072ae1cc65",
   "metadata": {},
   "outputs": [
    {
     "data": {
      "text/plain": [
       "(891,)"
      ]
     },
     "execution_count": 5,
     "metadata": {},
     "output_type": "execute_result"
    }
   ],
   "source": [
    "ages.shape"
   ]
  },
  {
   "cell_type": "markdown",
   "id": "726ac661-b06c-48e2-b60f-9be70e87ed41",
   "metadata": {},
   "source": [
    "`DataFrame.shape` is an attribute of a pandas Series and DataFrame, containing the number of rows and columns (nrows, ncolumns). \n",
    "\n",
    "A pandas `Series` is a 1-D data constructand so *only* the number of rows is returned "
   ]
  },
  {
   "cell_type": "markdown",
   "id": "d71239e8-7bc1-4439-b14e-87b0514f3b41",
   "metadata": {},
   "source": [
    "I’m interested in the age and sex of the Titanic passengers."
   ]
  },
  {
   "cell_type": "code",
   "execution_count": 6,
   "id": "345d887f-130b-4d53-9ea5-fa1c09b55b96",
   "metadata": {},
   "outputs": [],
   "source": [
    "age_sex = titanic[[\"Age\",\"Sex\"]]"
   ]
  },
  {
   "cell_type": "code",
   "execution_count": 7,
   "id": "bf89e281-86f9-4e09-a6e6-b14570375ae9",
   "metadata": {},
   "outputs": [
    {
     "data": {
      "text/html": [
       "<div>\n",
       "<style scoped>\n",
       "    .dataframe tbody tr th:only-of-type {\n",
       "        vertical-align: middle;\n",
       "    }\n",
       "\n",
       "    .dataframe tbody tr th {\n",
       "        vertical-align: top;\n",
       "    }\n",
       "\n",
       "    .dataframe thead th {\n",
       "        text-align: right;\n",
       "    }\n",
       "</style>\n",
       "<table border=\"1\" class=\"dataframe\">\n",
       "  <thead>\n",
       "    <tr style=\"text-align: right;\">\n",
       "      <th></th>\n",
       "      <th>Age</th>\n",
       "      <th>Sex</th>\n",
       "    </tr>\n",
       "  </thead>\n",
       "  <tbody>\n",
       "    <tr>\n",
       "      <th>0</th>\n",
       "      <td>22.0</td>\n",
       "      <td>male</td>\n",
       "    </tr>\n",
       "    <tr>\n",
       "      <th>1</th>\n",
       "      <td>38.0</td>\n",
       "      <td>female</td>\n",
       "    </tr>\n",
       "    <tr>\n",
       "      <th>2</th>\n",
       "      <td>26.0</td>\n",
       "      <td>female</td>\n",
       "    </tr>\n",
       "    <tr>\n",
       "      <th>3</th>\n",
       "      <td>35.0</td>\n",
       "      <td>female</td>\n",
       "    </tr>\n",
       "    <tr>\n",
       "      <th>4</th>\n",
       "      <td>35.0</td>\n",
       "      <td>male</td>\n",
       "    </tr>\n",
       "    <tr>\n",
       "      <th>5</th>\n",
       "      <td>NaN</td>\n",
       "      <td>male</td>\n",
       "    </tr>\n",
       "    <tr>\n",
       "      <th>6</th>\n",
       "      <td>54.0</td>\n",
       "      <td>male</td>\n",
       "    </tr>\n",
       "  </tbody>\n",
       "</table>\n",
       "</div>"
      ],
      "text/plain": [
       "    Age     Sex\n",
       "0  22.0    male\n",
       "1  38.0  female\n",
       "2  26.0  female\n",
       "3  35.0  female\n",
       "4  35.0    male\n",
       "5   NaN    male\n",
       "6  54.0    male"
      ]
     },
     "execution_count": 7,
     "metadata": {},
     "output_type": "execute_result"
    }
   ],
   "source": [
    "age_sex.head(7)"
   ]
  },
  {
   "cell_type": "markdown",
   "id": "ff290191-e4fe-492c-a4bf-b377b64bb225",
   "metadata": {},
   "source": [
    "To select *multiple columns*, **use a list of column names** within the selection brackets []\n",
    "\n",
    "Note: The inner square brackets define a Python list with column names, whereas the outer brackets are used to select the data from a pandas DataFrame as seen in the previous example."
   ]
  },
  {
   "cell_type": "code",
   "execution_count": 8,
   "id": "4b0801e0-b651-4235-9391-3e57818923e1",
   "metadata": {},
   "outputs": [
    {
     "data": {
      "text/plain": [
       "pandas.core.frame.DataFrame"
      ]
     },
     "execution_count": 8,
     "metadata": {},
     "output_type": "execute_result"
    }
   ],
   "source": [
    "type(titanic[[\"Age\", \"Sex\"]])"
   ]
  },
  {
   "cell_type": "code",
   "execution_count": 9,
   "id": "c65b6650-c799-4461-80a8-a4a29c63ebab",
   "metadata": {},
   "outputs": [
    {
     "data": {
      "text/plain": [
       "(891, 2)"
      ]
     },
     "execution_count": 9,
     "metadata": {},
     "output_type": "execute_result"
    }
   ],
   "source": [
    "titanic[[\"Age\", \"Sex\"]].shape\n",
    "\n"
   ]
  },
  {
   "cell_type": "markdown",
   "id": "1ae9fc0e-4af6-40d9-a0a4-49067d1cfd43",
   "metadata": {},
   "source": [
    "The selection returned a DataFrame with 891 rows and 2 columns. Remember, a DataFrame is 2-dimensional with both a row and column dimension.\n",
    "\n",
    "## How do I filter specific rows from a DataFrame?"
   ]
  },
  {
   "attachments": {
    "8b6eba85-a0d4-4529-bfde-9ba597b40918.png": {
     "image/png": "[encoded data removed]"
    }
   },
   "cell_type": "markdown",
   "id": "aca8d89a-298b-4b71-88a9-36ef8bfbab30",
   "metadata": {},
   "source": [
    "![image.png](attachment:8b6eba85-a0d4-4529-bfde-9ba597b40918.png)"
   ]
  },
  {
   "cell_type": "markdown",
   "id": "a2188340-1b15-4470-956e-550fe612a8c9",
   "metadata": {},
   "source": [
    "I’m interested in the passengers older than 35 years."
   ]
  },
  {
   "cell_type": "code",
   "execution_count": 10,
   "id": "b2dbc017-81c3-4ad2-862b-f3200132ff6b",
   "metadata": {},
   "outputs": [
    {
     "data": {
      "text/html": [
       "<div>\n",
       "<style scoped>\n",
       "    .dataframe tbody tr th:only-of-type {\n",
       "        vertical-align: middle;\n",
       "    }\n",
       "\n",
       "    .dataframe tbody tr th {\n",
       "        vertical-align: top;\n",
       "    }\n",
       "\n",
       "    .dataframe thead th {\n",
       "        text-align: right;\n",
       "    }\n",
       "</style>\n",
       "<table border=\"1\" class=\"dataframe\">\n",
       "  <thead>\n",
       "    <tr style=\"text-align: right;\">\n",
       "      <th></th>\n",
       "      <th>PassengerId</th>\n",
       "      <th>Survived</th>\n",
       "      <th>Pclass</th>\n",
       "      <th>Name</th>\n",
       "      <th>Sex</th>\n",
       "      <th>Age</th>\n",
       "      <th>SibSp</th>\n",
       "      <th>Parch</th>\n",
       "      <th>Ticket</th>\n",
       "      <th>Fare</th>\n",
       "      <th>Cabin</th>\n",
       "      <th>Embarked</th>\n",
       "    </tr>\n",
       "  </thead>\n",
       "  <tbody>\n",
       "    <tr>\n",
       "      <th>1</th>\n",
       "      <td>2</td>\n",
       "      <td>1</td>\n",
       "      <td>1</td>\n",
       "      <td>Cumings, Mrs. John Bradley (Florence Briggs Th...</td>\n",
       "      <td>female</td>\n",
       "      <td>38.0</td>\n",
       "      <td>1</td>\n",
       "      <td>0</td>\n",
       "      <td>PC 17599</td>\n",
       "      <td>71.2833</td>\n",
       "      <td>C85</td>\n",
       "      <td>C</td>\n",
       "    </tr>\n",
       "    <tr>\n",
       "      <th>6</th>\n",
       "      <td>7</td>\n",
       "      <td>0</td>\n",
       "      <td>1</td>\n",
       "      <td>McCarthy, Mr. Timothy J</td>\n",
       "      <td>male</td>\n",
       "      <td>54.0</td>\n",
       "      <td>0</td>\n",
       "      <td>0</td>\n",
       "      <td>17463</td>\n",
       "      <td>51.8625</td>\n",
       "      <td>E46</td>\n",
       "      <td>S</td>\n",
       "    </tr>\n",
       "    <tr>\n",
       "      <th>11</th>\n",
       "      <td>12</td>\n",
       "      <td>1</td>\n",
       "      <td>1</td>\n",
       "      <td>Bonnell, Miss Elizabeth</td>\n",
       "      <td>female</td>\n",
       "      <td>58.0</td>\n",
       "      <td>0</td>\n",
       "      <td>0</td>\n",
       "      <td>113783</td>\n",
       "      <td>26.5500</td>\n",
       "      <td>C103</td>\n",
       "      <td>S</td>\n",
       "    </tr>\n",
       "    <tr>\n",
       "      <th>13</th>\n",
       "      <td>14</td>\n",
       "      <td>0</td>\n",
       "      <td>3</td>\n",
       "      <td>Andersson, Mr. Anders Johan</td>\n",
       "      <td>male</td>\n",
       "      <td>39.0</td>\n",
       "      <td>1</td>\n",
       "      <td>5</td>\n",
       "      <td>347082</td>\n",
       "      <td>31.2750</td>\n",
       "      <td>NaN</td>\n",
       "      <td>S</td>\n",
       "    </tr>\n",
       "    <tr>\n",
       "      <th>15</th>\n",
       "      <td>16</td>\n",
       "      <td>1</td>\n",
       "      <td>2</td>\n",
       "      <td>Hewlett, Mrs. (Mary D Kingcome)</td>\n",
       "      <td>female</td>\n",
       "      <td>55.0</td>\n",
       "      <td>0</td>\n",
       "      <td>0</td>\n",
       "      <td>248706</td>\n",
       "      <td>16.0000</td>\n",
       "      <td>NaN</td>\n",
       "      <td>S</td>\n",
       "    </tr>\n",
       "  </tbody>\n",
       "</table>\n",
       "</div>"
      ],
      "text/plain": [
       "    PassengerId  Survived  Pclass  \\\n",
       "1             2         1       1   \n",
       "6             7         0       1   \n",
       "11           12         1       1   \n",
       "13           14         0       3   \n",
       "15           16         1       2   \n",
       "\n",
       "                                                 Name     Sex   Age  SibSp  \\\n",
       "1   Cumings, Mrs. John Bradley (Florence Briggs Th...  female  38.0      1   \n",
       "6                             McCarthy, Mr. Timothy J    male  54.0      0   \n",
       "11                            Bonnell, Miss Elizabeth  female  58.0      0   \n",
       "13                        Andersson, Mr. Anders Johan    male  39.0      1   \n",
       "15                   Hewlett, Mrs. (Mary D Kingcome)   female  55.0      0   \n",
       "\n",
       "    Parch    Ticket     Fare Cabin Embarked  \n",
       "1       0  PC 17599  71.2833   C85        C  \n",
       "6       0     17463  51.8625   E46        S  \n",
       "11      0    113783  26.5500  C103        S  \n",
       "13      5    347082  31.2750   NaN        S  \n",
       "15      0    248706  16.0000   NaN        S  "
      ]
     },
     "execution_count": 10,
     "metadata": {},
     "output_type": "execute_result"
    }
   ],
   "source": [
    "above_35 = titanic[titanic[\"Age\"]>35]\n",
    "above_35.head()\n"
   ]
  },
  {
   "cell_type": "markdown",
   "id": "9729d3f5-482b-4a6e-a708-6958255ef3be",
   "metadata": {},
   "source": [
    "To select rows based on a conditional expression, use a condition inside the selection brackets []\n",
    "\n",
    "The condition inside the selection brackets titanic[\"Age\"] > 35 checks for which rows the Age column has a value larger than 35:"
   ]
  },
  {
   "cell_type": "code",
   "execution_count": 11,
   "id": "a082c888-3adf-44ff-93d4-7268bb85c2e9",
   "metadata": {},
   "outputs": [
    {
     "data": {
      "text/plain": [
       "0      False\n",
       "1       True\n",
       "2      False\n",
       "3      False\n",
       "4      False\n",
       "       ...  \n",
       "886    False\n",
       "887    False\n",
       "888    False\n",
       "889    False\n",
       "890    False\n",
       "Name: Age, Length: 891, dtype: bool"
      ]
     },
     "execution_count": 11,
     "metadata": {},
     "output_type": "execute_result"
    }
   ],
   "source": [
    "titanic[\"Age\"] > 35"
   ]
  },
  {
   "cell_type": "markdown",
   "id": "5fe2a01c-352d-44f1-9c0b-d584e9745bc0",
   "metadata": {},
   "source": [
    "The output of the conditional expression (>, but also ==, !=, <, <=,… would work) is actually a pandas Series of boolean values (either True or False) with the same number of rows as the original DataFrame. Such a Series of boolean values can be used to filter the DataFrame by putting it in between the selection brackets []. Only rows for which the value is True will be selected.\n",
    "\n",
    "We know from before that the original Titanic DataFrame consists of 891 rows. Let’s have a look at the number of rows which satisfy the condition by checking the shape attribute of the resulting DataFrame above_35:"
   ]
  },
  {
   "cell_type": "code",
   "execution_count": 12,
   "id": "973901b0-c377-4262-9d38-c69fd1152678",
   "metadata": {},
   "outputs": [
    {
     "data": {
      "text/plain": [
       "(217, 12)"
      ]
     },
     "execution_count": 12,
     "metadata": {},
     "output_type": "execute_result"
    }
   ],
   "source": [
    "above_35.shape\n"
   ]
  },
  {
   "cell_type": "markdown",
   "id": "affd1fad-c862-483f-b5ff-060b6a2680c3",
   "metadata": {},
   "source": [
    "Let's say now that we're interested in only the Titanic passengers from cabin class 2 and 3.\n"
   ]
  },
  {
   "cell_type": "code",
   "execution_count": 13,
   "id": "eabfbd50-a467-4498-8993-67dd9c272530",
   "metadata": {},
   "outputs": [
    {
     "data": {
      "text/html": [
       "<div>\n",
       "<style scoped>\n",
       "    .dataframe tbody tr th:only-of-type {\n",
       "        vertical-align: middle;\n",
       "    }\n",
       "\n",
       "    .dataframe tbody tr th {\n",
       "        vertical-align: top;\n",
       "    }\n",
       "\n",
       "    .dataframe thead th {\n",
       "        text-align: right;\n",
       "    }\n",
       "</style>\n",
       "<table border=\"1\" class=\"dataframe\">\n",
       "  <thead>\n",
       "    <tr style=\"text-align: right;\">\n",
       "      <th></th>\n",
       "      <th>PassengerId</th>\n",
       "      <th>Survived</th>\n",
       "      <th>Pclass</th>\n",
       "      <th>Name</th>\n",
       "      <th>Sex</th>\n",
       "      <th>Age</th>\n",
       "      <th>SibSp</th>\n",
       "      <th>Parch</th>\n",
       "      <th>Ticket</th>\n",
       "      <th>Fare</th>\n",
       "      <th>Cabin</th>\n",
       "      <th>Embarked</th>\n",
       "    </tr>\n",
       "  </thead>\n",
       "  <tbody>\n",
       "    <tr>\n",
       "      <th>0</th>\n",
       "      <td>1</td>\n",
       "      <td>0</td>\n",
       "      <td>3</td>\n",
       "      <td>Braund, Mr. Owen Harris</td>\n",
       "      <td>male</td>\n",
       "      <td>22.0</td>\n",
       "      <td>1</td>\n",
       "      <td>0</td>\n",
       "      <td>A/5 21171</td>\n",
       "      <td>7.2500</td>\n",
       "      <td>NaN</td>\n",
       "      <td>S</td>\n",
       "    </tr>\n",
       "    <tr>\n",
       "      <th>2</th>\n",
       "      <td>3</td>\n",
       "      <td>1</td>\n",
       "      <td>3</td>\n",
       "      <td>Heikkinen, Miss Laina</td>\n",
       "      <td>female</td>\n",
       "      <td>26.0</td>\n",
       "      <td>0</td>\n",
       "      <td>0</td>\n",
       "      <td>STON/O2. 3101282</td>\n",
       "      <td>7.9250</td>\n",
       "      <td>NaN</td>\n",
       "      <td>S</td>\n",
       "    </tr>\n",
       "    <tr>\n",
       "      <th>4</th>\n",
       "      <td>5</td>\n",
       "      <td>0</td>\n",
       "      <td>3</td>\n",
       "      <td>Allen, Mr. William Henry</td>\n",
       "      <td>male</td>\n",
       "      <td>35.0</td>\n",
       "      <td>0</td>\n",
       "      <td>0</td>\n",
       "      <td>373450</td>\n",
       "      <td>8.0500</td>\n",
       "      <td>NaN</td>\n",
       "      <td>S</td>\n",
       "    </tr>\n",
       "    <tr>\n",
       "      <th>5</th>\n",
       "      <td>6</td>\n",
       "      <td>0</td>\n",
       "      <td>3</td>\n",
       "      <td>Moran, Mr. James</td>\n",
       "      <td>male</td>\n",
       "      <td>NaN</td>\n",
       "      <td>0</td>\n",
       "      <td>0</td>\n",
       "      <td>330877</td>\n",
       "      <td>8.4583</td>\n",
       "      <td>NaN</td>\n",
       "      <td>Q</td>\n",
       "    </tr>\n",
       "    <tr>\n",
       "      <th>7</th>\n",
       "      <td>8</td>\n",
       "      <td>0</td>\n",
       "      <td>3</td>\n",
       "      <td>Palsson, Master Gosta Leonard</td>\n",
       "      <td>male</td>\n",
       "      <td>2.0</td>\n",
       "      <td>3</td>\n",
       "      <td>1</td>\n",
       "      <td>349909</td>\n",
       "      <td>21.0750</td>\n",
       "      <td>NaN</td>\n",
       "      <td>S</td>\n",
       "    </tr>\n",
       "  </tbody>\n",
       "</table>\n",
       "</div>"
      ],
      "text/plain": [
       "   PassengerId  Survived  Pclass                           Name     Sex   Age  \\\n",
       "0            1         0       3        Braund, Mr. Owen Harris    male  22.0   \n",
       "2            3         1       3          Heikkinen, Miss Laina  female  26.0   \n",
       "4            5         0       3       Allen, Mr. William Henry    male  35.0   \n",
       "5            6         0       3               Moran, Mr. James    male   NaN   \n",
       "7            8         0       3  Palsson, Master Gosta Leonard    male   2.0   \n",
       "\n",
       "   SibSp  Parch            Ticket     Fare Cabin Embarked  \n",
       "0      1      0         A/5 21171   7.2500   NaN        S  \n",
       "2      0      0  STON/O2. 3101282   7.9250   NaN        S  \n",
       "4      0      0            373450   8.0500   NaN        S  \n",
       "5      0      0            330877   8.4583   NaN        Q  \n",
       "7      3      1            349909  21.0750   NaN        S  "
      ]
     },
     "execution_count": 13,
     "metadata": {},
     "output_type": "execute_result"
    }
   ],
   "source": [
    "class_23 = titanic[titanic[\"Pclass\"].isin([2,3])]\n",
    "class_23.head()"
   ]
  },
  {
   "cell_type": "markdown",
   "id": "adbc58d1-e58b-4190-8a4f-0e0ee54fcfa4",
   "metadata": {},
   "source": [
    "##### Like the conditional expression before, `isin()` is a **conditional function** that returns `True` for each row row in the specified Series or list. \n",
    "- To filter the rows based on the `conditional function`, use the conditional function *inside* the selection brackets `[]`.\n",
    "- Here, the condition inside the selection brackets `titanic[\"Pclass\"].isin([2,3])` checks for which rows the `Pclass` column is either 2 or 3.\n",
    "- This is the same as filtering by rows for which the class is either 2 or 3 and combining the two statements with an `|` (or) operator"
   ]
  },
  {
   "cell_type": "code",
   "execution_count": 14,
   "id": "9f42fb6e-2fef-432c-9acb-35520fca0daf",
   "metadata": {},
   "outputs": [],
   "source": [
    "# i.e.\n",
    "class_23 = titanic[(titanic[\"Pclass\"] == 2) | (titanic[\"Pclass\"] == 3)]"
   ]
  },
  {
   "cell_type": "code",
   "execution_count": 15,
   "id": "15c437f6-560f-4ca7-9667-66fd2fbf4a63",
   "metadata": {},
   "outputs": [
    {
     "data": {
      "text/plain": [
       "(675, 12)"
      ]
     },
     "execution_count": 15,
     "metadata": {},
     "output_type": "execute_result"
    }
   ],
   "source": [
    "class_23.head()\n",
    "class_23.shape"
   ]
  },
  {
   "cell_type": "markdown",
   "id": "73bcde68-ec96-4888-9982-c3548565b285",
   "metadata": {},
   "source": [
    "**NOTE**: When combining multiple conditions, each condition must be wrapped in parentheses `()`. \n",
    "            AND we cannot use the standard python `or/and` operators but instead must use the `|` / `&` operators\n",
    "\n",
    "\n",
    "###### Now, let's imagine we want only the passenger data for which the age is known..."
   ]
  },
  {
   "cell_type": "code",
   "execution_count": 16,
   "id": "de27a3fd-666d-4065-8f3f-4f7dfb68795f",
   "metadata": {},
   "outputs": [
    {
     "data": {
      "text/html": [
       "<div>\n",
       "<style scoped>\n",
       "    .dataframe tbody tr th:only-of-type {\n",
       "        vertical-align: middle;\n",
       "    }\n",
       "\n",
       "    .dataframe tbody tr th {\n",
       "        vertical-align: top;\n",
       "    }\n",
       "\n",
       "    .dataframe thead th {\n",
       "        text-align: right;\n",
       "    }\n",
       "</style>\n",
       "<table border=\"1\" class=\"dataframe\">\n",
       "  <thead>\n",
       "    <tr style=\"text-align: right;\">\n",
       "      <th></th>\n",
       "      <th>PassengerId</th>\n",
       "      <th>Survived</th>\n",
       "      <th>Pclass</th>\n",
       "      <th>Name</th>\n",
       "      <th>Sex</th>\n",
       "      <th>Age</th>\n",
       "      <th>SibSp</th>\n",
       "      <th>Parch</th>\n",
       "      <th>Ticket</th>\n",
       "      <th>Fare</th>\n",
       "      <th>Cabin</th>\n",
       "      <th>Embarked</th>\n",
       "    </tr>\n",
       "  </thead>\n",
       "  <tbody>\n",
       "    <tr>\n",
       "      <th>0</th>\n",
       "      <td>1</td>\n",
       "      <td>0</td>\n",
       "      <td>3</td>\n",
       "      <td>Braund, Mr. Owen Harris</td>\n",
       "      <td>male</td>\n",
       "      <td>22.0</td>\n",
       "      <td>1</td>\n",
       "      <td>0</td>\n",
       "      <td>A/5 21171</td>\n",
       "      <td>7.2500</td>\n",
       "      <td>NaN</td>\n",
       "      <td>S</td>\n",
       "    </tr>\n",
       "    <tr>\n",
       "      <th>1</th>\n",
       "      <td>2</td>\n",
       "      <td>1</td>\n",
       "      <td>1</td>\n",
       "      <td>Cumings, Mrs. John Bradley (Florence Briggs Th...</td>\n",
       "      <td>female</td>\n",
       "      <td>38.0</td>\n",
       "      <td>1</td>\n",
       "      <td>0</td>\n",
       "      <td>PC 17599</td>\n",
       "      <td>71.2833</td>\n",
       "      <td>C85</td>\n",
       "      <td>C</td>\n",
       "    </tr>\n",
       "    <tr>\n",
       "      <th>2</th>\n",
       "      <td>3</td>\n",
       "      <td>1</td>\n",
       "      <td>3</td>\n",
       "      <td>Heikkinen, Miss Laina</td>\n",
       "      <td>female</td>\n",
       "      <td>26.0</td>\n",
       "      <td>0</td>\n",
       "      <td>0</td>\n",
       "      <td>STON/O2. 3101282</td>\n",
       "      <td>7.9250</td>\n",
       "      <td>NaN</td>\n",
       "      <td>S</td>\n",
       "    </tr>\n",
       "    <tr>\n",
       "      <th>3</th>\n",
       "      <td>4</td>\n",
       "      <td>1</td>\n",
       "      <td>1</td>\n",
       "      <td>Futrelle, Mrs. Jacques Heath (Lily May Peel)</td>\n",
       "      <td>female</td>\n",
       "      <td>35.0</td>\n",
       "      <td>1</td>\n",
       "      <td>0</td>\n",
       "      <td>113803</td>\n",
       "      <td>53.1000</td>\n",
       "      <td>C123</td>\n",
       "      <td>S</td>\n",
       "    </tr>\n",
       "    <tr>\n",
       "      <th>4</th>\n",
       "      <td>5</td>\n",
       "      <td>0</td>\n",
       "      <td>3</td>\n",
       "      <td>Allen, Mr. William Henry</td>\n",
       "      <td>male</td>\n",
       "      <td>35.0</td>\n",
       "      <td>0</td>\n",
       "      <td>0</td>\n",
       "      <td>373450</td>\n",
       "      <td>8.0500</td>\n",
       "      <td>NaN</td>\n",
       "      <td>S</td>\n",
       "    </tr>\n",
       "  </tbody>\n",
       "</table>\n",
       "</div>"
      ],
      "text/plain": [
       "   PassengerId  Survived  Pclass  \\\n",
       "0            1         0       3   \n",
       "1            2         1       1   \n",
       "2            3         1       3   \n",
       "3            4         1       1   \n",
       "4            5         0       3   \n",
       "\n",
       "                                                Name     Sex   Age  SibSp  \\\n",
       "0                            Braund, Mr. Owen Harris    male  22.0      1   \n",
       "1  Cumings, Mrs. John Bradley (Florence Briggs Th...  female  38.0      1   \n",
       "2                              Heikkinen, Miss Laina  female  26.0      0   \n",
       "3       Futrelle, Mrs. Jacques Heath (Lily May Peel)  female  35.0      1   \n",
       "4                           Allen, Mr. William Henry    male  35.0      0   \n",
       "\n",
       "   Parch            Ticket     Fare Cabin Embarked  \n",
       "0      0         A/5 21171   7.2500   NaN        S  \n",
       "1      0          PC 17599  71.2833   C85        C  \n",
       "2      0  STON/O2. 3101282   7.9250   NaN        S  \n",
       "3      0            113803  53.1000  C123        S  \n",
       "4      0            373450   8.0500   NaN        S  "
      ]
     },
     "execution_count": 16,
     "metadata": {},
     "output_type": "execute_result"
    }
   ],
   "source": [
    "age_no_na = titanic[titanic[\"Age\"].notna()]\n",
    "age_no_na.head()"
   ]
  },
  {
   "cell_type": "markdown",
   "id": "28988ceb-e5cd-4abe-9c5e-d5c64d1d7a47",
   "metadata": {},
   "source": [
    "The `notna()` is another conditional pandas function. \n",
    "* it returns `True` for each row where the specified column values are not `Null`.\n",
    "* Thus, it can be combined with selection brackets `[]` to filter the data table\n",
    "\n",
    "Since the data displayed by the `head()` method looks very similar, one way we can check if it has actually changed is by checking the shape. "
   ]
  },
  {
   "cell_type": "code",
   "execution_count": 17,
   "id": "ce8257ff-66a6-4615-93f4-62060e3fb6f4",
   "metadata": {},
   "outputs": [
    {
     "data": {
      "text/plain": [
       "(714, 12)"
      ]
     },
     "execution_count": 17,
     "metadata": {},
     "output_type": "execute_result"
    }
   ],
   "source": [
    "age_no_na.shape\n"
   ]
  },
  {
   "attachments": {
    "fdd27809-1143-4cdb-9daa-31a4e11bcb29.png": {
     "image/png": "[encoded data removed]"
    }
   },
   "cell_type": "markdown",
   "id": "82860914-95d6-457e-8964-cb0c848b9eea",
   "metadata": {},
   "source": [
    "### How do I select specific rows and columns from a DataFrame?\n",
    "\n",
    "![image.png](attachment:fdd27809-1143-4cdb-9daa-31a4e11bcb29.png)"
   ]
  },
  {
   "cell_type": "markdown",
   "id": "af2ee912-0ca2-47a0-a7eb-b25ce6f8c727",
   "metadata": {},
   "source": [
    "Now, we are interested in only the names of passengers who are *older than 35 years*..."
   ]
  },
  {
   "cell_type": "code",
   "execution_count": 18,
   "id": "c7528203-3dfb-4ad8-8e4d-752e736bb350",
   "metadata": {},
   "outputs": [
    {
     "data": {
      "text/plain": [
       "1     Cumings, Mrs. John Bradley (Florence Briggs Th...\n",
       "6                               McCarthy, Mr. Timothy J\n",
       "11                              Bonnell, Miss Elizabeth\n",
       "13                          Andersson, Mr. Anders Johan\n",
       "15                     Hewlett, Mrs. (Mary D Kingcome) \n",
       "Name: Name, dtype: object"
      ]
     },
     "execution_count": 18,
     "metadata": {},
     "output_type": "execute_result"
    }
   ],
   "source": [
    "adult_names = titanic.loc[titanic[\"Age\"]> 35, \"Name\"]\n",
    "adult_names.head()"
   ]
  },
  {
   "cell_type": "markdown",
   "id": "eb17cb7e-5274-4096-9fe8-beec7daeea0f",
   "metadata": {},
   "source": [
    "Here, a **subset** of both rows and columns is created, and just using selection brackets `[]` is not sufficient.\n",
    "\n",
    "The `loc/iloc` operators are required **in front** of the selection brackets `[]`. \n",
    "\n",
    "When using `loc` & `iloc`, the e.g. `loc[a, b]`:\n",
    "- a = rows desired\n",
    "- b = columns desired\n",
    "- when using column names, use `loc` (locate)\n",
    "    - for `a` and `b`, you can use:\n",
    "        - single string label\n",
    "        - a list of string labels\n",
    "        - conditional expression\n",
    "        - a colon (specifies that you want to select **all** *rows or columns*.\n",
    "\n",
    "Now, i'm interested in rows 10 to 25 & 3 to 5. "
   ]
  },
  {
   "cell_type": "code",
   "execution_count": 19,
   "id": "95b4092f-a945-4762-908f-eaccd65be57a",
   "metadata": {},
   "outputs": [
    {
     "data": {
      "text/html": [
       "<div>\n",
       "<style scoped>\n",
       "    .dataframe tbody tr th:only-of-type {\n",
       "        vertical-align: middle;\n",
       "    }\n",
       "\n",
       "    .dataframe tbody tr th {\n",
       "        vertical-align: top;\n",
       "    }\n",
       "\n",
       "    .dataframe thead th {\n",
       "        text-align: right;\n",
       "    }\n",
       "</style>\n",
       "<table border=\"1\" class=\"dataframe\">\n",
       "  <thead>\n",
       "    <tr style=\"text-align: right;\">\n",
       "      <th></th>\n",
       "      <th>Pclass</th>\n",
       "      <th>Name</th>\n",
       "      <th>Sex</th>\n",
       "    </tr>\n",
       "  </thead>\n",
       "  <tbody>\n",
       "    <tr>\n",
       "      <th>9</th>\n",
       "      <td>2</td>\n",
       "      <td>Nasser, Mrs. Nicholas (Adele Achem)</td>\n",
       "      <td>female</td>\n",
       "    </tr>\n",
       "    <tr>\n",
       "      <th>10</th>\n",
       "      <td>3</td>\n",
       "      <td>Sandstrom, Miss Marguerite Rut</td>\n",
       "      <td>female</td>\n",
       "    </tr>\n",
       "    <tr>\n",
       "      <th>11</th>\n",
       "      <td>1</td>\n",
       "      <td>Bonnell, Miss Elizabeth</td>\n",
       "      <td>female</td>\n",
       "    </tr>\n",
       "    <tr>\n",
       "      <th>12</th>\n",
       "      <td>3</td>\n",
       "      <td>Saundercock, Mr. William Henry</td>\n",
       "      <td>male</td>\n",
       "    </tr>\n",
       "    <tr>\n",
       "      <th>13</th>\n",
       "      <td>3</td>\n",
       "      <td>Andersson, Mr. Anders Johan</td>\n",
       "      <td>male</td>\n",
       "    </tr>\n",
       "    <tr>\n",
       "      <th>14</th>\n",
       "      <td>3</td>\n",
       "      <td>Vestrom, Miss Hulda Amanda Adolfina</td>\n",
       "      <td>female</td>\n",
       "    </tr>\n",
       "    <tr>\n",
       "      <th>15</th>\n",
       "      <td>2</td>\n",
       "      <td>Hewlett, Mrs. (Mary D Kingcome)</td>\n",
       "      <td>female</td>\n",
       "    </tr>\n",
       "    <tr>\n",
       "      <th>16</th>\n",
       "      <td>3</td>\n",
       "      <td>Rice, Master Eugene</td>\n",
       "      <td>male</td>\n",
       "    </tr>\n",
       "    <tr>\n",
       "      <th>17</th>\n",
       "      <td>2</td>\n",
       "      <td>Williams, Mr. Charles Eugene</td>\n",
       "      <td>male</td>\n",
       "    </tr>\n",
       "    <tr>\n",
       "      <th>18</th>\n",
       "      <td>3</td>\n",
       "      <td>Vander Planke, Mrs. Julius (Emelia Maria Vande...</td>\n",
       "      <td>female</td>\n",
       "    </tr>\n",
       "    <tr>\n",
       "      <th>19</th>\n",
       "      <td>3</td>\n",
       "      <td>Masselmani, Mrs. Fatima</td>\n",
       "      <td>female</td>\n",
       "    </tr>\n",
       "    <tr>\n",
       "      <th>20</th>\n",
       "      <td>2</td>\n",
       "      <td>Fynney, Mr. Joseph J</td>\n",
       "      <td>male</td>\n",
       "    </tr>\n",
       "    <tr>\n",
       "      <th>21</th>\n",
       "      <td>2</td>\n",
       "      <td>Beesley, Mr. Lawrence</td>\n",
       "      <td>male</td>\n",
       "    </tr>\n",
       "    <tr>\n",
       "      <th>22</th>\n",
       "      <td>3</td>\n",
       "      <td>McGowan, Miss Anna \"Annie\"</td>\n",
       "      <td>female</td>\n",
       "    </tr>\n",
       "    <tr>\n",
       "      <th>23</th>\n",
       "      <td>1</td>\n",
       "      <td>Sloper, Mr. William Thompson</td>\n",
       "      <td>male</td>\n",
       "    </tr>\n",
       "    <tr>\n",
       "      <th>24</th>\n",
       "      <td>3</td>\n",
       "      <td>Palsson, Miss Torborg Danira</td>\n",
       "      <td>female</td>\n",
       "    </tr>\n",
       "  </tbody>\n",
       "</table>\n",
       "</div>"
      ],
      "text/plain": [
       "    Pclass                                               Name     Sex\n",
       "9        2                Nasser, Mrs. Nicholas (Adele Achem)  female\n",
       "10       3                     Sandstrom, Miss Marguerite Rut  female\n",
       "11       1                            Bonnell, Miss Elizabeth  female\n",
       "12       3                     Saundercock, Mr. William Henry    male\n",
       "13       3                        Andersson, Mr. Anders Johan    male\n",
       "14       3                Vestrom, Miss Hulda Amanda Adolfina  female\n",
       "15       2                   Hewlett, Mrs. (Mary D Kingcome)   female\n",
       "16       3                                Rice, Master Eugene    male\n",
       "17       2                       Williams, Mr. Charles Eugene    male\n",
       "18       3  Vander Planke, Mrs. Julius (Emelia Maria Vande...  female\n",
       "19       3                            Masselmani, Mrs. Fatima  female\n",
       "20       2                               Fynney, Mr. Joseph J    male\n",
       "21       2                              Beesley, Mr. Lawrence    male\n",
       "22       3                         McGowan, Miss Anna \"Annie\"  female\n",
       "23       1                       Sloper, Mr. William Thompson    male\n",
       "24       3                       Palsson, Miss Torborg Danira  female"
      ]
     },
     "execution_count": 19,
     "metadata": {},
     "output_type": "execute_result"
    }
   ],
   "source": [
    "titanic.iloc[9:25, 2:5] # as standard in python, the selection range is end-exclusive i.e. only up to the 24th row and 4 column will be displayed "
   ]
  },
  {
   "cell_type": "markdown",
   "id": "4362cc79-d68e-496c-b488-de6654842647",
   "metadata": {},
   "source": [
    "Again, a **subset** of both rows and columns has been created in one go, but just using `[]` for selection is not enough. \n",
    "\n",
    "When specifically interested in rows or columns based on position within the data set/table, use `iloc` -- think of `iloc` as *integer-locate* or *index-locate*\n",
    "\n",
    "And, when selecting specific rows and/or columns with `iloc` or `iloc`, new values can be assigned to the selected data. \n",
    "\n",
    "E.g. let's assign `anonymous` to the first 3 elements of the fourth column"
   ]
  },
  {
   "cell_type": "code",
   "execution_count": 20,
   "id": "c9af5a08-1f2e-4109-8750-dbaa9a6abd48",
   "metadata": {},
   "outputs": [],
   "source": [
    "titanic.iloc[0:3, 3] = \"anonymous\""
   ]
  },
  {
   "cell_type": "code",
   "execution_count": 21,
   "id": "1abfda57-e932-4076-8e8a-793e9289810b",
   "metadata": {},
   "outputs": [
    {
     "data": {
      "text/html": [
       "<div>\n",
       "<style scoped>\n",
       "    .dataframe tbody tr th:only-of-type {\n",
       "        vertical-align: middle;\n",
       "    }\n",
       "\n",
       "    .dataframe tbody tr th {\n",
       "        vertical-align: top;\n",
       "    }\n",
       "\n",
       "    .dataframe thead th {\n",
       "        text-align: right;\n",
       "    }\n",
       "</style>\n",
       "<table border=\"1\" class=\"dataframe\">\n",
       "  <thead>\n",
       "    <tr style=\"text-align: right;\">\n",
       "      <th></th>\n",
       "      <th>PassengerId</th>\n",
       "      <th>Survived</th>\n",
       "      <th>Pclass</th>\n",
       "      <th>Name</th>\n",
       "      <th>Sex</th>\n",
       "      <th>Age</th>\n",
       "      <th>SibSp</th>\n",
       "      <th>Parch</th>\n",
       "      <th>Ticket</th>\n",
       "      <th>Fare</th>\n",
       "      <th>Cabin</th>\n",
       "      <th>Embarked</th>\n",
       "    </tr>\n",
       "  </thead>\n",
       "  <tbody>\n",
       "    <tr>\n",
       "      <th>0</th>\n",
       "      <td>1</td>\n",
       "      <td>0</td>\n",
       "      <td>3</td>\n",
       "      <td>anonymous</td>\n",
       "      <td>male</td>\n",
       "      <td>22.0</td>\n",
       "      <td>1</td>\n",
       "      <td>0</td>\n",
       "      <td>A/5 21171</td>\n",
       "      <td>7.2500</td>\n",
       "      <td>NaN</td>\n",
       "      <td>S</td>\n",
       "    </tr>\n",
       "    <tr>\n",
       "      <th>1</th>\n",
       "      <td>2</td>\n",
       "      <td>1</td>\n",
       "      <td>1</td>\n",
       "      <td>anonymous</td>\n",
       "      <td>female</td>\n",
       "      <td>38.0</td>\n",
       "      <td>1</td>\n",
       "      <td>0</td>\n",
       "      <td>PC 17599</td>\n",
       "      <td>71.2833</td>\n",
       "      <td>C85</td>\n",
       "      <td>C</td>\n",
       "    </tr>\n",
       "    <tr>\n",
       "      <th>2</th>\n",
       "      <td>3</td>\n",
       "      <td>1</td>\n",
       "      <td>3</td>\n",
       "      <td>anonymous</td>\n",
       "      <td>female</td>\n",
       "      <td>26.0</td>\n",
       "      <td>0</td>\n",
       "      <td>0</td>\n",
       "      <td>STON/O2. 3101282</td>\n",
       "      <td>7.9250</td>\n",
       "      <td>NaN</td>\n",
       "      <td>S</td>\n",
       "    </tr>\n",
       "    <tr>\n",
       "      <th>3</th>\n",
       "      <td>4</td>\n",
       "      <td>1</td>\n",
       "      <td>1</td>\n",
       "      <td>Futrelle, Mrs. Jacques Heath (Lily May Peel)</td>\n",
       "      <td>female</td>\n",
       "      <td>35.0</td>\n",
       "      <td>1</td>\n",
       "      <td>0</td>\n",
       "      <td>113803</td>\n",
       "      <td>53.1000</td>\n",
       "      <td>C123</td>\n",
       "      <td>S</td>\n",
       "    </tr>\n",
       "    <tr>\n",
       "      <th>4</th>\n",
       "      <td>5</td>\n",
       "      <td>0</td>\n",
       "      <td>3</td>\n",
       "      <td>Allen, Mr. William Henry</td>\n",
       "      <td>male</td>\n",
       "      <td>35.0</td>\n",
       "      <td>0</td>\n",
       "      <td>0</td>\n",
       "      <td>373450</td>\n",
       "      <td>8.0500</td>\n",
       "      <td>NaN</td>\n",
       "      <td>S</td>\n",
       "    </tr>\n",
       "  </tbody>\n",
       "</table>\n",
       "</div>"
      ],
      "text/plain": [
       "   PassengerId  Survived  Pclass  \\\n",
       "0            1         0       3   \n",
       "1            2         1       1   \n",
       "2            3         1       3   \n",
       "3            4         1       1   \n",
       "4            5         0       3   \n",
       "\n",
       "                                           Name     Sex   Age  SibSp  Parch  \\\n",
       "0                                     anonymous    male  22.0      1      0   \n",
       "1                                     anonymous  female  38.0      1      0   \n",
       "2                                     anonymous  female  26.0      0      0   \n",
       "3  Futrelle, Mrs. Jacques Heath (Lily May Peel)  female  35.0      1      0   \n",
       "4                      Allen, Mr. William Henry    male  35.0      0      0   \n",
       "\n",
       "             Ticket     Fare Cabin Embarked  \n",
       "0         A/5 21171   7.2500   NaN        S  \n",
       "1          PC 17599  71.2833   C85        C  \n",
       "2  STON/O2. 3101282   7.9250   NaN        S  \n",
       "3            113803  53.1000  C123        S  \n",
       "4            373450   8.0500   NaN        S  "
      ]
     },
     "execution_count": 21,
     "metadata": {},
     "output_type": "execute_result"
    }
   ],
   "source": [
    "titanic.head()"
   ]
  },
  {
   "cell_type": "markdown",
   "id": "2a363026-7770-47dd-b31a-bfe93a1e7bf1",
   "metadata": {},
   "source": [
    "#### A Recap of `loc` and `iloc`:"
   ]
  },
  {
   "cell_type": "code",
   "execution_count": 22,
   "id": "a6bc0213-802b-4e63-9ce4-7394ceb18364",
   "metadata": {},
   "outputs": [],
   "source": [
    "# df.iloc[500]\n",
    "# returns the 501st row (indexing starts from 0). Note that specifying a dimension for the columns is optional.\n",
    "# df.iloc[500, 3]\n",
    "# retrieves the 501st row, column number 3. Multiple columns can also be specified:\n",
    "# df.iloc[500, [0,1,3]]\n",
    "# This is done using a list within the column dimension.\n",
    "\n",
    "# Slicing is also possible.\n",
    "# df.iloc[:500, [0,1,3]]\n",
    "# shows the first 500 rows for columns 0, 1, and 3. Note: Observations with row number 501 are excluded because slicing excludes the last number (i.e.,\n",
    "# :500\n",
    "# means from 0 to 499).\n",
    "\n",
    " \n",
    "\n",
    "# The distinction with\n",
    "# loc\n",
    "# lies in its use of indexes.\n",
    "# df.loc[:500]\n",
    "# could yield the same results as\n",
    "# df.iloc[:500]\n",
    "# if indexes are integers in ascending order. However, if any index differs from the integer ordering, the results will not match. Dates can also be used as indexes.\n",
    "\n",
    " \n",
    "\n",
    "# Note: Slicing with\n",
    "# loc\n",
    "# includes both the starting and ending points (unlike\n",
    "# iloc\n",
    "# , which excludes the ending point)."
   ]
  },
  {
   "cell_type": "markdown",
   "id": "66866d11-ec79-45b9-9c8f-7839287410a2",
   "metadata": {},
   "source": [
    "#### REMEMBER: \n",
    "* When selecting *subsets* of data, `[]` are used\n",
    "    * Inside these brackets, we can use single col/row label\n",
    "    * A list of col/row labels\n",
    "    * A slice of labels\n",
    "    * A conditional expression\n",
    "    * A colon.\n",
    "* Select specific rows and columns using `loc` with their specific `string` names\n",
    "* Select specififc rows and columns using `iloc` with their positions in the table\n",
    "* You can assign new `values` to a seelction with `iloc`/`loc`"
   ]
  },
  {
   "cell_type": "code",
   "execution_count": null,
   "id": "bcf24bfa-76d4-4cd9-8b71-fe9b041a3719",
   "metadata": {},
   "outputs": [],
   "source": []
  },
  {
   "cell_type": "code",
   "execution_count": null,
   "id": "bfa38c4a-83df-4ccc-8c33-63b5037355f4",
   "metadata": {},
   "outputs": [],
   "source": []
  },
  {
   "cell_type": "code",
   "execution_count": null,
   "id": "0d9f229b-f396-4c52-828b-09ed57ef09ed",
   "metadata": {},
   "outputs": [],
   "source": []
  },
  {
   "cell_type": "code",
   "execution_count": null,
   "id": "d0575c07-1f76-4a4b-9b63-0e3803dcf406",
   "metadata": {},
   "outputs": [],
   "source": []
  },
  {
   "cell_type": "code",
   "execution_count": null,
   "id": "5bc3bdb0-23be-4725-8aa2-1e1848651063",
   "metadata": {},
   "outputs": [],
   "source": []
  },
  {
   "cell_type": "code",
   "execution_count": null,
   "id": "0d8f8f69-70fb-4308-8966-3b9e18c94222",
   "metadata": {},
   "outputs": [],
   "source": []
  }
 ],
 "metadata": {
  "kernelspec": {
   "display_name": "Python [conda env:myenv]",
   "language": "python",
   "name": "conda-env-myenv-py"
  },
  "language_info": {
   "codemirror_mode": {
    "name": "ipython",
    "version": 3
   },
   "file_extension": ".py",
   "mimetype": "text/x-python",
   "name": "python",
   "nbconvert_exporter": "python",
   "pygments_lexer": "ipython3",
   "version": "3.10.16"
  }
 },
 "nbformat": 4,
 "nbformat_minor": 5
}

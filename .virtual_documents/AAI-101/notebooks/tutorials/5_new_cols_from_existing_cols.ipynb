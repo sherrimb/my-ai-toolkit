


import pandas as pd


air_quality = pd.read_csv("../../air_quality_datasets/air_quality_no2.csv", index_col=0, parse_dates=True)



air_quality.head()





air_quality["london_mg_per_cubic"] = air_quality["station_london"]*1.882


air_quality.head()








air_quality["ratio_paris_antwerp"] = (
    air_quality["station_paris"]/air_quality["station_antwerp"]
)


air_quality.head()











air_quality_renamed = air_quality.rename(
    columns={
            "station_antwerp": "BETR801",
            "station_paris": "FR04014",
            "station_london": "London Westminster",
        }
)


air_quality_renamed.head()






air_quality_renamed = air_quality_renamed.rename(columns=str.lower)


air_quality_renamed.head()










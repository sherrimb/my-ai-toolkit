


# As always, let's ensure we first import the necessary packages:
import pandas as pd

import matplotlib.pyplot as plt





air_quality = pd.read_csv("../../air_quality_datasets/air_quality_no2.csv", index_col=0, parse_dates=True)





air_quality.head()





air_quality.plot()
plt.show()








air_quality["station_london"].plot()
plt.show()








air_quality.plot.scatter(x="station_london", y="station_paris", alpha=0.5)


air_quality.plot.scatter(x="station_paris", y="station_london", alpha=0.5)
plt.show()





for method_name in dir(air_quality.plot):
    if not method_name.startswith("_"):
        print(method_name)  # Display available plotting methods












air_quality.plot.box()





axs = air_quality.plot.area(figsize=(12,4), subplots=True)








fig, axs = plt.subplots(figsize=(12,4))
air_quality.plot.area(ax=axs)
axs.set_ylabel("NO$_2$ concentration")
fig.savefig("../../visualizations/no2_concentrations.png")





fig, axs = plt.subplots(figsize=(12, 4))        # Create an empty Matplotlib Figure and Axes
air_quality.plot.area(ax=axs)                   # Use pandas to put the area plot on the prepared Figure/Axes
axs.set_ylabel("NO$_2$ concentration")          # Do any Matplotlib customization you like
fig.savefig("../../visualizations/no2_concentrations.png")           # Save the Figure/Axes using the existing Matplotlib method.
plt.show()                                      # Display the plot







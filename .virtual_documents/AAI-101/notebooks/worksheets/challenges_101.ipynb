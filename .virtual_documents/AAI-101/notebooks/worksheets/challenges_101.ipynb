


import pandas as pd
print(pd.__version__)








import pandas as pd 




students_df = pd.read_csv("../../data/students.csv")
enrollments_df = pd.read_json("../../data/enrollments.json")





students_df.head()  # Displays the first 5 rows of students_df


enrollments_df.head()  # Displays the first 5 rows of enrollments_df





# your code here


# your code here


# your code here


# your code here





students_df.shape



enrollments_df.shape





students_df.columns



enrollments_df.columns


students_df.dtypes


enrollments_df.dtypes


students_df.describe()


enrollments_df.describe()


students_df.info()


enrollments_df.info()





students_df.isnull().sum()


enrollments_df.isnull().sum()


students_df.isnull().values.any()


enrollments_df.isnull().values.any()


(students_df == "").sum()


(enrollments_df == "").sum()





students_df.columns = students_df.columns.str.lower().str.replace(" ", "_")


enrollments_df.columns = enrollments_df.columns.str.lower().str.replace(" ", "_")


print("Students DataFrame Columns:", students_df.columns)


print("Enrollments DataFrame Columns:", enrollments_df.columns)





#CHECK EXISTING DATA TYPES
print(students_df.dtypes)
print(enrollments_df.dtypes)


students_df["admission_year"] = pd.to_numeric(students_df["admission_year"], errors="coerce")
enrollments_df["course_fee"] = pd.to_numeric(enrollments_df["course_fee"], errors="coerce")


print(students_df.columns)
print(enrollments_df.columns)


enrollments_df["date_enrolled"] = pd.to_datetime(enrollments_df["date_enrolled"], errors="coerce")


students_df["birthdate"] = pd.to_datetime(students_df.get("birthdate"), errors="coerce")





students_df = students_df.copy()  # Ensure it's not a copy

students_df.loc[:, "contact_email"] = students_df["contact_email"].fillna("Unknown")
students_df.loc[:, "home_city"] = students_df["home_city"].fillna("Unknown")
students_df.loc[:, "majorfield"] = students_df["majorfield"].fillna("Undeclared")


students_df.loc[:, "birthdate"] = students_df["birthdate"].fillna(pd.Timestamp("2000-01-01"))
enrollments_df.loc[:, "date_enrolled"] = enrollments_df["date_enrolled"].fillna(pd.Timestamp("2020-01-01"))


# your print(students_df.isnull().sum())
print(enrollments_df.isnull().sum())


print(students_df.isnull().sum())


students_df.loc[:, "admission_year"] = students_df["admission_year"].fillna(students_df["admission_year"].mode()[0])


students_df["mobile_number"].fillna("000-000-0000", inplace=True)








# your code here


# your code here


# your code here


# your code here





# your code here


# your code here


# your code here


# your code here





# your code here


# your code here


# your code here


# your code here





# your code here


# your code here


# your code here


# your code here





# your code here


# your code here


# your code here


# your code here





# your code here


# your code here


# your code here


# your code here





# your code here


# your code here


# your code here


# your code here





# your code here


# your code here


# your code here


# your code here





# your code here


# your code here


# your code here


# your code here





# your code here


# your code here


# your code here


# your code here





# your code here


# your code here


# your code here


# your code here





# your code here


# your code here


# your code here


# your code here













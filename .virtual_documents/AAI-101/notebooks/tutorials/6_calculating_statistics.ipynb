


import pandas as pd

titanic = pd.read_csv("../../data/titanic.csv")



titanic.head()








print("the mean age is: ", (titanic["Age"].mean()))








titanic[["Age", "Fare"]].median()





titanic[["Age","Fare"]].describe()





titanic.agg(
    {
        "Age":["min","max","median","skew"],
        "Fare":["min","max","median","mean"]
    }
)











titanic[["Sex","Age"]].groupby("Sex").mean()





titanic.groupby("Sex").mean(numeric_only=True)



# Another example. 
titanic[["Age","Sex","Fare","Survived"]].groupby("Sex").mean(numeric_only=True)





titanic.groupby("Sex")["Age"].mean()








titanic.groupby(["Sex", "Pclass"])["Fare"].mean()








titanic["Pclass"].value_counts()





titanic.groupby("Pclass")["Pclass"].count()










{
 "cells": [
  {
   "cell_type": "markdown",
   "id": "52b85277",
   "metadata": {
    "editable": true,
    "slideshow": {
     "slide_type": ""
    },
    "tags": []
   },
   "source": [
    "# **Exploring Pandas: Common Data Operations**\n",
    "\n",
    "Welcome to this Jupyter Notebook! 🚀 In this notebook, you'll practice some of the most commonly used operations in the **Pandas** library using **two datasets**:\n",
    "1. **../../data/students.csv** (CSV)\n",
    "2. **../../data/enrollments.json** (JSON)\n",
    "\n",
    "These files should be placed in the same folder as this notebook. By the end, you'll have a strong grasp of common data manipulation tasks, and you'll even merge these two datasets on a common key.\n",
    "\n",
    "Before starting, make sure you have **Pandas** installed. (It should come preinstalled in Anaconda!)\n",
    "\n",
    "If pandas is not installed, follow the instructions below.\n",
    "\n",
    "---\n",
    "\n",
    "## **Checking if Pandas is Installed in Your Conda Environment**\n",
    "\n",
    "Before proceeding, check if Pandas is installed in your Conda environment by running the following command in a **Jupyter Notebook** cell:"
   ]
  },
  {
   "cell_type": "code",
   "execution_count": 6,
   "id": "a070d316",
   "metadata": {},
   "outputs": [
    {
     "name": "stdout",
     "output_type": "stream",
     "text": [
      "2.2.2\n"
     ]
    }
   ],
   "source": [
    "import pandas as pd\n",
    "print(pd.__version__)"
   ]
  },
  {
   "cell_type": "markdown",
   "id": "692ffe7d",
   "metadata": {},
   "source": [
    "If this runs without errors and prints a version number, Pandas is installed. If you see an **ImportError**, install Pandas using one of the following methods:\n",
    "\n",
    "### **For Conda Users (Recommended)**\n",
    "Run this in your terminal or Anaconda Prompt:\n",
    "```\n",
    "conda install pandas\n",
    "```\n",
    "\n",
    "### **Using Conda-Forge (If Needed)**\n",
    "If you encounter issues, you can install Pandas from **Conda-Forge**, a community-maintained repository with up-to-date packages:\n",
    "```\n",
    "conda install -c conda-forge pandas\n",
    "```\n",
    "\n",
    "### **For Pip Users**\n",
    "If you're using a virtual environment outside Conda, install Pandas via Pip:\n",
    "```\n",
    "pip install pandas\n",
    "```\n",
    "\n",
    "# Now, let’s dive in! 🏊‍♂️\n",
    "\n",
    "---\n"
   ]
  },
  {
   "cell_type": "markdown",
   "id": "081fc09d",
   "metadata": {},
   "source": [
    "## **1. Load a CSV file into a Pandas DataFrame**\n",
    "\n",
    "First, let's **import Pandas** and load the datasets. Two datasets have been prepared for you:\n",
    "\n",
    "- `students.csv`\n",
    "- `enrollments.json`\n",
    "\n",
    "You will use these two datasets for the following challenges.\n",
    "\n",
    "**💡 Hint:** If the file is in the same directory as your notebook, you can just use the filename. Otherwise, provide the full file path.\n"
   ]
  },
  {
   "cell_type": "code",
   "execution_count": 18,
   "id": "2f79dccb-ed26-46d4-bd25-44d60ee1e8c9",
   "metadata": {
    "lines_to_next_cell": 2
   },
   "outputs": [],
   "source": [
    "import pandas as pd \n",
    "\n"
   ]
  },
  {
   "cell_type": "code",
   "execution_count": 20,
   "id": "9e28b9e3",
   "metadata": {
    "lines_to_next_cell": 2
   },
   "outputs": [],
   "source": [
    "students_df = pd.read_csv(\"../../data/students.csv\")\n",
    "enrollments_df = pd.read_json(\"../../data/enrollments.json\")"
   ]
  },
  {
   "cell_type": "markdown",
   "id": "bb23c619",
   "metadata": {},
   "source": [
    "## **2. View the First and Last Few Rows of Each DataFrame**\n",
    "\n",
    "Check out how your data looks. One method previews the first few records, while another method previews the last few. You can specify the number of rows you want to see by explicitly passing an integer argument.\n",
    "\n",
    "**📝 Tip:** This is a great time to confirm that columns loaded correctly and to spot any obvious data issues (strange values, mismatched columns, etc.)."
   ]
  },
  {
   "cell_type": "code",
   "execution_count": 22,
   "id": "8cbb0e66-2831-4a99-8d7e-53df56623d78",
   "metadata": {},
   "outputs": [
    {
     "data": {
      "text/html": [
       "<div>\n",
       "<style scoped>\n",
       "    .dataframe tbody tr th:only-of-type {\n",
       "        vertical-align: middle;\n",
       "    }\n",
       "\n",
       "    .dataframe tbody tr th {\n",
       "        vertical-align: top;\n",
       "    }\n",
       "\n",
       "    .dataframe thead th {\n",
       "        text-align: right;\n",
       "    }\n",
       "</style>\n",
       "<table border=\"1\" class=\"dataframe\">\n",
       "  <thead>\n",
       "    <tr style=\"text-align: right;\">\n",
       "      <th></th>\n",
       "      <th>student_id</th>\n",
       "      <th>First_Name</th>\n",
       "      <th>last_name</th>\n",
       "      <th>Birthddate</th>\n",
       "      <th>gender</th>\n",
       "      <th>majorField</th>\n",
       "      <th>admission_year</th>\n",
       "      <th>current gpa</th>\n",
       "      <th>contact_email</th>\n",
       "      <th>mobile number</th>\n",
       "      <th>home_city</th>\n",
       "      <th>HOME COUNTRY</th>\n",
       "    </tr>\n",
       "  </thead>\n",
       "  <tbody>\n",
       "    <tr>\n",
       "      <th>0</th>\n",
       "      <td>STU001</td>\n",
       "      <td>John</td>\n",
       "      <td>Doe</td>\n",
       "      <td>4/12/1998</td>\n",
       "      <td>M</td>\n",
       "      <td>Computer Science</td>\n",
       "      <td>2020</td>\n",
       "      <td>3.5</td>\n",
       "      <td>john.doe@example.com</td>\n",
       "      <td>-655.0</td>\n",
       "      <td>Tampa</td>\n",
       "      <td>USA</td>\n",
       "    </tr>\n",
       "    <tr>\n",
       "      <th>1</th>\n",
       "      <td>STU002</td>\n",
       "      <td>Maria</td>\n",
       "      <td>Gonzalez</td>\n",
       "      <td>9/5/1997</td>\n",
       "      <td>F</td>\n",
       "      <td>Biology</td>\n",
       "      <td>2019</td>\n",
       "      <td>3.8</td>\n",
       "      <td>maria.gonzalez@example.com</td>\n",
       "      <td>-656.0</td>\n",
       "      <td>London</td>\n",
       "      <td>UK</td>\n",
       "    </tr>\n",
       "    <tr>\n",
       "      <th>2</th>\n",
       "      <td>STU003</td>\n",
       "      <td>Priya</td>\n",
       "      <td>Patel</td>\n",
       "      <td>1/23/1999</td>\n",
       "      <td>F</td>\n",
       "      <td>Engineering</td>\n",
       "      <td>2021</td>\n",
       "      <td>3.7</td>\n",
       "      <td>priya.patel@example.com</td>\n",
       "      <td>-657.0</td>\n",
       "      <td>Mumbai</td>\n",
       "      <td>India</td>\n",
       "    </tr>\n",
       "    <tr>\n",
       "      <th>3</th>\n",
       "      <td>STU004</td>\n",
       "      <td>Alex</td>\n",
       "      <td>Johnson</td>\n",
       "      <td>12/15/1996</td>\n",
       "      <td>M</td>\n",
       "      <td>Mathematics</td>\n",
       "      <td>2018</td>\n",
       "      <td>3.2</td>\n",
       "      <td>alex.johnson@example.com</td>\n",
       "      <td>NaN</td>\n",
       "      <td>Sydney</td>\n",
       "      <td>Australia</td>\n",
       "    </tr>\n",
       "    <tr>\n",
       "      <th>4</th>\n",
       "      <td>STU005</td>\n",
       "      <td>Emily</td>\n",
       "      <td>Smith</td>\n",
       "      <td>7/30/2000</td>\n",
       "      <td>F</td>\n",
       "      <td>Physics</td>\n",
       "      <td>2022</td>\n",
       "      <td>3.9</td>\n",
       "      <td>emily.smith@example.com</td>\n",
       "      <td>-659.0</td>\n",
       "      <td>New York</td>\n",
       "      <td>USA</td>\n",
       "    </tr>\n",
       "  </tbody>\n",
       "</table>\n",
       "</div>"
      ],
      "text/plain": [
       "  student_id First_Name last_name  Birthddate gender        majorField  \\\n",
       "0     STU001       John       Doe   4/12/1998      M  Computer Science   \n",
       "1     STU002      Maria  Gonzalez    9/5/1997      F           Biology   \n",
       "2     STU003      Priya     Patel   1/23/1999      F       Engineering   \n",
       "3     STU004       Alex   Johnson  12/15/1996      M       Mathematics   \n",
       "4     STU005      Emily     Smith   7/30/2000      F           Physics   \n",
       "\n",
       "  admission_year  current gpa               contact_email  mobile number  \\\n",
       "0           2020          3.5        john.doe@example.com         -655.0   \n",
       "1           2019          3.8  maria.gonzalez@example.com         -656.0   \n",
       "2           2021          3.7     priya.patel@example.com         -657.0   \n",
       "3           2018          3.2    alex.johnson@example.com            NaN   \n",
       "4           2022          3.9     emily.smith@example.com         -659.0   \n",
       "\n",
       "  home_city HOME COUNTRY  \n",
       "0     Tampa          USA  \n",
       "1    London           UK  \n",
       "2    Mumbai        India  \n",
       "3    Sydney    Australia  \n",
       "4  New York          USA  "
      ]
     },
     "execution_count": 22,
     "metadata": {},
     "output_type": "execute_result"
    }
   ],
   "source": [
    "students_df.head()  # Displays the first 5 rows of students_df"
   ]
  },
  {
   "cell_type": "code",
   "execution_count": 24,
   "id": "a1203cc8-3286-47ed-a29d-8f79489cd49a",
   "metadata": {},
   "outputs": [
    {
     "data": {
      "text/html": [
       "<div>\n",
       "<style scoped>\n",
       "    .dataframe tbody tr th:only-of-type {\n",
       "        vertical-align: middle;\n",
       "    }\n",
       "\n",
       "    .dataframe tbody tr th {\n",
       "        vertical-align: top;\n",
       "    }\n",
       "\n",
       "    .dataframe thead th {\n",
       "        text-align: right;\n",
       "    }\n",
       "</style>\n",
       "<table border=\"1\" class=\"dataframe\">\n",
       "  <thead>\n",
       "    <tr style=\"text-align: right;\">\n",
       "      <th></th>\n",
       "      <th>enrollment_id</th>\n",
       "      <th>stud_ref_id</th>\n",
       "      <th>subject_code</th>\n",
       "      <th>course_title</th>\n",
       "      <th>instructor_name</th>\n",
       "      <th>enroll_count</th>\n",
       "      <th>term_offered</th>\n",
       "      <th>course_fee</th>\n",
       "      <th>final_result</th>\n",
       "      <th>attend_percentage</th>\n",
       "      <th>date_enrolled</th>\n",
       "    </tr>\n",
       "  </thead>\n",
       "  <tbody>\n",
       "    <tr>\n",
       "      <th>0</th>\n",
       "      <td>ENR-STU001-MATH101-AB12</td>\n",
       "      <td>STU001</td>\n",
       "      <td>MATH101</td>\n",
       "      <td>Calculus I</td>\n",
       "      <td>Dr. Smith</td>\n",
       "      <td>25</td>\n",
       "      <td>Spring 2026</td>\n",
       "      <td>1000</td>\n",
       "      <td>A</td>\n",
       "      <td>71</td>\n",
       "      <td>2026/01/15</td>\n",
       "    </tr>\n",
       "    <tr>\n",
       "      <th>1</th>\n",
       "      <td>ENR-STU002-ENG201-CD34</td>\n",
       "      <td>STU002</td>\n",
       "      <td>ENG201</td>\n",
       "      <td>English Literature</td>\n",
       "      <td>Prof. Brown</td>\n",
       "      <td>26</td>\n",
       "      <td>Fall 2025</td>\n",
       "      <td>1100</td>\n",
       "      <td>B</td>\n",
       "      <td>72</td>\n",
       "      <td>2025-09-01</td>\n",
       "    </tr>\n",
       "    <tr>\n",
       "      <th>2</th>\n",
       "      <td>ENR-STU003-CS301-EF56</td>\n",
       "      <td>STU003</td>\n",
       "      <td>CS301</td>\n",
       "      <td>Programming 101</td>\n",
       "      <td>Dr. Taylor</td>\n",
       "      <td>27</td>\n",
       "      <td>Spring 2026</td>\n",
       "      <td>1200</td>\n",
       "      <td>C+</td>\n",
       "      <td>73</td>\n",
       "      <td>2026/01/15</td>\n",
       "    </tr>\n",
       "    <tr>\n",
       "      <th>3</th>\n",
       "      <td>ENR-STU004-HIST105-GH78</td>\n",
       "      <td>STU004</td>\n",
       "      <td>HIST105</td>\n",
       "      <td>World History</td>\n",
       "      <td>Dr. Lee</td>\n",
       "      <td>28</td>\n",
       "      <td>Fall 2025</td>\n",
       "      <td>1300</td>\n",
       "      <td>B+</td>\n",
       "      <td>74</td>\n",
       "      <td>2025/09/01</td>\n",
       "    </tr>\n",
       "    <tr>\n",
       "      <th>4</th>\n",
       "      <td>ENR-STU005-CHEM110-IJ90</td>\n",
       "      <td>STU005</td>\n",
       "      <td>CHEM110</td>\n",
       "      <td>Organic Chemistry</td>\n",
       "      <td>Dr. Kumar</td>\n",
       "      <td>29</td>\n",
       "      <td>Spring 2026</td>\n",
       "      <td>1400</td>\n",
       "      <td>B-</td>\n",
       "      <td>75</td>\n",
       "      <td>2026-01-15</td>\n",
       "    </tr>\n",
       "  </tbody>\n",
       "</table>\n",
       "</div>"
      ],
      "text/plain": [
       "             enrollment_id stud_ref_id subject_code        course_title  \\\n",
       "0  ENR-STU001-MATH101-AB12      STU001      MATH101          Calculus I   \n",
       "1   ENR-STU002-ENG201-CD34      STU002       ENG201  English Literature   \n",
       "2    ENR-STU003-CS301-EF56      STU003        CS301     Programming 101   \n",
       "3  ENR-STU004-HIST105-GH78      STU004      HIST105       World History   \n",
       "4  ENR-STU005-CHEM110-IJ90      STU005      CHEM110   Organic Chemistry   \n",
       "\n",
       "  instructor_name  enroll_count term_offered course_fee final_result  \\\n",
       "0       Dr. Smith            25  Spring 2026       1000            A   \n",
       "1     Prof. Brown            26    Fall 2025       1100            B   \n",
       "2      Dr. Taylor            27  Spring 2026       1200           C+   \n",
       "3         Dr. Lee            28    Fall 2025       1300           B+   \n",
       "4       Dr. Kumar            29  Spring 2026       1400           B-   \n",
       "\n",
       "   attend_percentage date_enrolled  \n",
       "0                 71    2026/01/15  \n",
       "1                 72    2025-09-01  \n",
       "2                 73    2026/01/15  \n",
       "3                 74    2025/09/01  \n",
       "4                 75    2026-01-15  "
      ]
     },
     "execution_count": 24,
     "metadata": {},
     "output_type": "execute_result"
    }
   ],
   "source": [
    "enrollments_df.head()  # Displays the first 5 rows of enrollments_df"
   ]
  },
  {
   "cell_type": "markdown",
   "id": "8123b74d-8641-43f4-992a-fa1e370b03e2",
   "metadata": {},
   "source": [
    "# Assistant\n",
    "This error occurs because the pandas library (abbreviated as 'pd') hasn't been imported before being used. To fix this, you need to import pandas at the beginning of your code.\n",
    "\n",
    "Would you like me to provide the corrected code?"
   ]
  },
  {
   "cell_type": "code",
   "execution_count": 4,
   "id": "ba59705d",
   "metadata": {
    "lines_to_next_cell": 2
   },
   "outputs": [],
   "source": [
    "# your code here"
   ]
  },
  {
   "cell_type": "code",
   "execution_count": 5,
   "id": "7c09cb9c",
   "metadata": {
    "lines_to_next_cell": 2
   },
   "outputs": [],
   "source": [
    "# your code here"
   ]
  },
  {
   "cell_type": "code",
   "execution_count": 6,
   "id": "0752625a",
   "metadata": {
    "lines_to_next_cell": 2
   },
   "outputs": [],
   "source": [
    "# your code here"
   ]
  },
  {
   "cell_type": "code",
   "execution_count": 7,
   "id": "023f34d2",
   "metadata": {},
   "outputs": [],
   "source": [
    "# your code here"
   ]
  },
  {
   "cell_type": "markdown",
   "id": "d831b3ca",
   "metadata": {},
   "source": [
    "## **3. Check the Shape of Each DataFrame**\n",
    "\n",
    "To understand the **size** of your dataset(s), use the attribute that returns `(number_of_rows, number_of_columns)`.\n",
    "\n",
    "**📝 Tip:** Note any big differences in row counts that might affect merging later.\n"
   ]
  },
  {
   "cell_type": "code",
   "execution_count": 26,
   "id": "013abc56",
   "metadata": {
    "lines_to_next_cell": 2
   },
   "outputs": [
    {
     "data": {
      "text/plain": [
       "(103, 12)"
      ]
     },
     "execution_count": 26,
     "metadata": {},
     "output_type": "execute_result"
    }
   ],
   "source": [
    "students_df.shape\n"
   ]
  },
  {
   "cell_type": "code",
   "execution_count": 34,
   "id": "1bb8e075",
   "metadata": {},
   "outputs": [
    {
     "data": {
      "text/plain": [
       "(101, 11)"
      ]
     },
     "execution_count": 34,
     "metadata": {},
     "output_type": "execute_result"
    }
   ],
   "source": [
    "enrollments_df.shape"
   ]
  },
  {
   "cell_type": "markdown",
   "id": "b716bb85",
   "metadata": {},
   "source": [
    "## **4. Get a Summary of Each DataFrame**\n",
    "\n",
    "Explore one or two approaches that provide:\n",
    "\n",
    "-   **Column names**\n",
    "-   **Data types**\n",
    "-   **Basic statistics about numerical columns**\n",
    "-   **Number of non-null values**\n",
    "\n",
    "**📝 Tip:** One approach might give an overview of columns and data types; another might summarize numerical columns. This step helps you detect columns that might need cleaning."
   ]
  },
  {
   "cell_type": "code",
   "execution_count": 38,
   "id": "54e294b7",
   "metadata": {
    "lines_to_next_cell": 2
   },
   "outputs": [
    {
     "data": {
      "text/plain": [
       "Index(['student_id', 'First_Name', 'last_name', 'Birthddate', 'gender',\n",
       "       'majorField', 'admission_year', 'current gpa', 'contact_email',\n",
       "       'mobile number', 'home_city', 'HOME COUNTRY'],\n",
       "      dtype='object')"
      ]
     },
     "execution_count": 38,
     "metadata": {},
     "output_type": "execute_result"
    }
   ],
   "source": [
    "students_df.columns\n"
   ]
  },
  {
   "cell_type": "code",
   "execution_count": 40,
   "id": "ab9c1939",
   "metadata": {
    "lines_to_next_cell": 2
   },
   "outputs": [
    {
     "data": {
      "text/plain": [
       "Index(['enrollment_id', 'stud_ref_id', 'subject_code', 'course_title',\n",
       "       'instructor_name', 'enroll_count', 'term_offered', 'course_fee',\n",
       "       'final_result', 'attend_percentage', 'date_enrolled'],\n",
       "      dtype='object')"
      ]
     },
     "execution_count": 40,
     "metadata": {},
     "output_type": "execute_result"
    }
   ],
   "source": [
    "enrollments_df.columns"
   ]
  },
  {
   "cell_type": "code",
   "execution_count": 42,
   "id": "08f3cba4",
   "metadata": {
    "lines_to_next_cell": 2
   },
   "outputs": [
    {
     "data": {
      "text/plain": [
       "student_id         object\n",
       "First_Name         object\n",
       "last_name          object\n",
       "Birthddate         object\n",
       "gender             object\n",
       "majorField         object\n",
       "admission_year     object\n",
       "current gpa       float64\n",
       "contact_email      object\n",
       "mobile number     float64\n",
       "home_city          object\n",
       "HOME COUNTRY       object\n",
       "dtype: object"
      ]
     },
     "execution_count": 42,
     "metadata": {},
     "output_type": "execute_result"
    }
   ],
   "source": [
    "students_df.dtypes"
   ]
  },
  {
   "cell_type": "code",
   "execution_count": 44,
   "id": "69635b89",
   "metadata": {},
   "outputs": [
    {
     "data": {
      "text/plain": [
       "enrollment_id        object\n",
       "stud_ref_id          object\n",
       "subject_code         object\n",
       "course_title         object\n",
       "instructor_name      object\n",
       "enroll_count          int64\n",
       "term_offered         object\n",
       "course_fee           object\n",
       "final_result         object\n",
       "attend_percentage     int64\n",
       "date_enrolled        object\n",
       "dtype: object"
      ]
     },
     "execution_count": 44,
     "metadata": {},
     "output_type": "execute_result"
    }
   ],
   "source": [
    "enrollments_df.dtypes"
   ]
  },
  {
   "cell_type": "code",
   "execution_count": 46,
   "id": "7f52d1d7-98e6-4cad-9d1e-af9ea0ba03c8",
   "metadata": {},
   "outputs": [
    {
     "data": {
      "text/html": [
       "<div>\n",
       "<style scoped>\n",
       "    .dataframe tbody tr th:only-of-type {\n",
       "        vertical-align: middle;\n",
       "    }\n",
       "\n",
       "    .dataframe tbody tr th {\n",
       "        vertical-align: top;\n",
       "    }\n",
       "\n",
       "    .dataframe thead th {\n",
       "        text-align: right;\n",
       "    }\n",
       "</style>\n",
       "<table border=\"1\" class=\"dataframe\">\n",
       "  <thead>\n",
       "    <tr style=\"text-align: right;\">\n",
       "      <th></th>\n",
       "      <th>current gpa</th>\n",
       "      <th>mobile number</th>\n",
       "    </tr>\n",
       "  </thead>\n",
       "  <tbody>\n",
       "    <tr>\n",
       "      <th>count</th>\n",
       "      <td>95.000000</td>\n",
       "      <td>97.000000</td>\n",
       "    </tr>\n",
       "    <tr>\n",
       "      <th>mean</th>\n",
       "      <td>3.560000</td>\n",
       "      <td>-688.381443</td>\n",
       "    </tr>\n",
       "    <tr>\n",
       "      <th>std</th>\n",
       "      <td>0.230817</td>\n",
       "      <td>150.548334</td>\n",
       "    </tr>\n",
       "    <tr>\n",
       "      <th>min</th>\n",
       "      <td>3.100000</td>\n",
       "      <td>-754.000000</td>\n",
       "    </tr>\n",
       "    <tr>\n",
       "      <th>25%</th>\n",
       "      <td>3.400000</td>\n",
       "      <td>-727.000000</td>\n",
       "    </tr>\n",
       "    <tr>\n",
       "      <th>50%</th>\n",
       "      <td>3.600000</td>\n",
       "      <td>-703.000000</td>\n",
       "    </tr>\n",
       "    <tr>\n",
       "      <th>75%</th>\n",
       "      <td>3.750000</td>\n",
       "      <td>-678.000000</td>\n",
       "    </tr>\n",
       "    <tr>\n",
       "      <th>max</th>\n",
       "      <td>3.900000</td>\n",
       "      <td>753.000000</td>\n",
       "    </tr>\n",
       "  </tbody>\n",
       "</table>\n",
       "</div>"
      ],
      "text/plain": [
       "       current gpa  mobile number\n",
       "count    95.000000      97.000000\n",
       "mean      3.560000    -688.381443\n",
       "std       0.230817     150.548334\n",
       "min       3.100000    -754.000000\n",
       "25%       3.400000    -727.000000\n",
       "50%       3.600000    -703.000000\n",
       "75%       3.750000    -678.000000\n",
       "max       3.900000     753.000000"
      ]
     },
     "execution_count": 46,
     "metadata": {},
     "output_type": "execute_result"
    }
   ],
   "source": [
    "students_df.describe()"
   ]
  },
  {
   "cell_type": "code",
   "execution_count": 48,
   "id": "d7eee946-8ee1-4816-b9a2-42cddf506c73",
   "metadata": {},
   "outputs": [
    {
     "data": {
      "text/html": [
       "<div>\n",
       "<style scoped>\n",
       "    .dataframe tbody tr th:only-of-type {\n",
       "        vertical-align: middle;\n",
       "    }\n",
       "\n",
       "    .dataframe tbody tr th {\n",
       "        vertical-align: top;\n",
       "    }\n",
       "\n",
       "    .dataframe thead th {\n",
       "        text-align: right;\n",
       "    }\n",
       "</style>\n",
       "<table border=\"1\" class=\"dataframe\">\n",
       "  <thead>\n",
       "    <tr style=\"text-align: right;\">\n",
       "      <th></th>\n",
       "      <th>enroll_count</th>\n",
       "      <th>attend_percentage</th>\n",
       "    </tr>\n",
       "  </thead>\n",
       "  <tbody>\n",
       "    <tr>\n",
       "      <th>count</th>\n",
       "      <td>101.000000</td>\n",
       "      <td>101.000000</td>\n",
       "    </tr>\n",
       "    <tr>\n",
       "      <th>mean</th>\n",
       "      <td>28.653465</td>\n",
       "      <td>79.633663</td>\n",
       "    </tr>\n",
       "    <tr>\n",
       "      <th>std</th>\n",
       "      <td>7.350423</td>\n",
       "      <td>6.009530</td>\n",
       "    </tr>\n",
       "    <tr>\n",
       "      <th>min</th>\n",
       "      <td>25.000000</td>\n",
       "      <td>67.000000</td>\n",
       "    </tr>\n",
       "    <tr>\n",
       "      <th>25%</th>\n",
       "      <td>26.000000</td>\n",
       "      <td>75.000000</td>\n",
       "    </tr>\n",
       "    <tr>\n",
       "      <th>50%</th>\n",
       "      <td>28.000000</td>\n",
       "      <td>80.000000</td>\n",
       "    </tr>\n",
       "    <tr>\n",
       "      <th>75%</th>\n",
       "      <td>30.000000</td>\n",
       "      <td>85.000000</td>\n",
       "    </tr>\n",
       "    <tr>\n",
       "      <th>max</th>\n",
       "      <td>99.000000</td>\n",
       "      <td>90.000000</td>\n",
       "    </tr>\n",
       "  </tbody>\n",
       "</table>\n",
       "</div>"
      ],
      "text/plain": [
       "       enroll_count  attend_percentage\n",
       "count    101.000000         101.000000\n",
       "mean      28.653465          79.633663\n",
       "std        7.350423           6.009530\n",
       "min       25.000000          67.000000\n",
       "25%       26.000000          75.000000\n",
       "50%       28.000000          80.000000\n",
       "75%       30.000000          85.000000\n",
       "max       99.000000          90.000000"
      ]
     },
     "execution_count": 48,
     "metadata": {},
     "output_type": "execute_result"
    }
   ],
   "source": [
    "enrollments_df.describe()"
   ]
  },
  {
   "cell_type": "code",
   "execution_count": 50,
   "id": "485c54a8-a3d5-491d-b47b-62864ac44389",
   "metadata": {},
   "outputs": [
    {
     "name": "stdout",
     "output_type": "stream",
     "text": [
      "<class 'pandas.core.frame.DataFrame'>\n",
      "RangeIndex: 103 entries, 0 to 102\n",
      "Data columns (total 12 columns):\n",
      " #   Column          Non-Null Count  Dtype  \n",
      "---  ------          --------------  -----  \n",
      " 0   student_id      103 non-null    object \n",
      " 1   First_Name      103 non-null    object \n",
      " 2   last_name       103 non-null    object \n",
      " 3   Birthddate      103 non-null    object \n",
      " 4   gender          103 non-null    object \n",
      " 5   majorField      102 non-null    object \n",
      " 6   admission_year  103 non-null    object \n",
      " 7   current gpa     95 non-null     float64\n",
      " 8   contact_email   103 non-null    object \n",
      " 9   mobile number   97 non-null     float64\n",
      " 10  home_city       103 non-null    object \n",
      " 11  HOME COUNTRY    103 non-null    object \n",
      "dtypes: float64(2), object(10)\n",
      "memory usage: 9.8+ KB\n"
     ]
    }
   ],
   "source": [
    "students_df.info()"
   ]
  },
  {
   "cell_type": "code",
   "execution_count": 52,
   "id": "3898ee3c-b4d4-495c-b8c4-8dad8a92cd3f",
   "metadata": {},
   "outputs": [
    {
     "name": "stdout",
     "output_type": "stream",
     "text": [
      "<class 'pandas.core.frame.DataFrame'>\n",
      "RangeIndex: 101 entries, 0 to 100\n",
      "Data columns (total 11 columns):\n",
      " #   Column             Non-Null Count  Dtype \n",
      "---  ------             --------------  ----- \n",
      " 0   enrollment_id      101 non-null    object\n",
      " 1   stud_ref_id        101 non-null    object\n",
      " 2   subject_code       101 non-null    object\n",
      " 3   course_title       101 non-null    object\n",
      " 4   instructor_name    101 non-null    object\n",
      " 5   enroll_count       101 non-null    int64 \n",
      " 6   term_offered       101 non-null    object\n",
      " 7   course_fee         100 non-null    object\n",
      " 8   final_result       101 non-null    object\n",
      " 9   attend_percentage  101 non-null    int64 \n",
      " 10  date_enrolled      101 non-null    object\n",
      "dtypes: int64(2), object(9)\n",
      "memory usage: 8.8+ KB\n"
     ]
    }
   ],
   "source": [
    "enrollments_df.info()"
   ]
  },
  {
   "cell_type": "markdown",
   "id": "75567b6f",
   "metadata": {},
   "source": [
    "## **5. Check for Missing Values**\n",
    "\n",
    "Determine if your dataset has any missing or null values by **counting** them. Notice which columns have many missing entries and plan how to handle them.\n",
    "\n",
    "**📝 Tip:** Some columns might look present but contain empty strings. Identify them if possible.\n"
   ]
  },
  {
   "cell_type": "code",
   "execution_count": 54,
   "id": "8f7e010c",
   "metadata": {
    "lines_to_next_cell": 2
   },
   "outputs": [
    {
     "data": {
      "text/plain": [
       "student_id        0\n",
       "First_Name        0\n",
       "last_name         0\n",
       "Birthddate        0\n",
       "gender            0\n",
       "majorField        1\n",
       "admission_year    0\n",
       "current gpa       8\n",
       "contact_email     0\n",
       "mobile number     6\n",
       "home_city         0\n",
       "HOME COUNTRY      0\n",
       "dtype: int64"
      ]
     },
     "execution_count": 54,
     "metadata": {},
     "output_type": "execute_result"
    }
   ],
   "source": [
    "students_df.isnull().sum()"
   ]
  },
  {
   "cell_type": "code",
   "execution_count": 56,
   "id": "2760201d",
   "metadata": {
    "lines_to_next_cell": 2
   },
   "outputs": [
    {
     "data": {
      "text/plain": [
       "enrollment_id        0\n",
       "stud_ref_id          0\n",
       "subject_code         0\n",
       "course_title         0\n",
       "instructor_name      0\n",
       "enroll_count         0\n",
       "term_offered         0\n",
       "course_fee           1\n",
       "final_result         0\n",
       "attend_percentage    0\n",
       "date_enrolled        0\n",
       "dtype: int64"
      ]
     },
     "execution_count": 56,
     "metadata": {},
     "output_type": "execute_result"
    }
   ],
   "source": [
    "enrollments_df.isnull().sum()"
   ]
  },
  {
   "cell_type": "code",
   "execution_count": 58,
   "id": "00672862",
   "metadata": {},
   "outputs": [
    {
     "data": {
      "text/plain": [
       "True"
      ]
     },
     "execution_count": 58,
     "metadata": {},
     "output_type": "execute_result"
    }
   ],
   "source": [
    "students_df.isnull().values.any()"
   ]
  },
  {
   "cell_type": "code",
   "execution_count": 60,
   "id": "51da6bd0-21c9-48ec-a623-3284c7ca293f",
   "metadata": {},
   "outputs": [
    {
     "data": {
      "text/plain": [
       "True"
      ]
     },
     "execution_count": 60,
     "metadata": {},
     "output_type": "execute_result"
    }
   ],
   "source": [
    "enrollments_df.isnull().values.any()"
   ]
  },
  {
   "cell_type": "code",
   "execution_count": 62,
   "id": "2ac0d184-9e8f-4b21-bfd7-ff66e00055ea",
   "metadata": {},
   "outputs": [
    {
     "data": {
      "text/plain": [
       "student_id        0\n",
       "First_Name        0\n",
       "last_name         0\n",
       "Birthddate        0\n",
       "gender            0\n",
       "majorField        0\n",
       "admission_year    0\n",
       "current gpa       0\n",
       "contact_email     0\n",
       "mobile number     0\n",
       "home_city         0\n",
       "HOME COUNTRY      0\n",
       "dtype: int64"
      ]
     },
     "execution_count": 62,
     "metadata": {},
     "output_type": "execute_result"
    }
   ],
   "source": [
    "(students_df == \"\").sum()"
   ]
  },
  {
   "cell_type": "code",
   "execution_count": 64,
   "id": "ac409f10-6ddd-427f-a36a-8f877d6a36db",
   "metadata": {},
   "outputs": [
    {
     "data": {
      "text/plain": [
       "enrollment_id        0\n",
       "stud_ref_id          0\n",
       "subject_code         1\n",
       "course_title         0\n",
       "instructor_name      1\n",
       "enroll_count         0\n",
       "term_offered         0\n",
       "course_fee           0\n",
       "final_result         1\n",
       "attend_percentage    0\n",
       "date_enrolled        0\n",
       "dtype: int64"
      ]
     },
     "execution_count": 64,
     "metadata": {},
     "output_type": "execute_result"
    }
   ],
   "source": [
    "(enrollments_df == \"\").sum()"
   ]
  },
  {
   "cell_type": "markdown",
   "id": "35cf28cb",
   "metadata": {},
   "source": [
    "## **6. Rename Columns for Clarity and Consistency**\n",
    "\n",
    "Some columns may have **spaces** or **capitalization** that complicates your analysis. For example, if you see `\"current gpa\"` or `\"First_Name\"`, consider renaming them (e.g., `\"current_gpa\"`, `\"first_name\"`) for ease of use.\n",
    "\n",
    "**📝 Tip:** Consistent naming conventions help minimize typos and KeyErrors."
   ]
  },
  {
   "cell_type": "code",
   "execution_count": 66,
   "id": "4349baa9",
   "metadata": {
    "lines_to_next_cell": 2
   },
   "outputs": [],
   "source": [
    "students_df.columns = students_df.columns.str.lower().str.replace(\" \", \"_\")"
   ]
  },
  {
   "cell_type": "code",
   "execution_count": 68,
   "id": "dcf1d51a",
   "metadata": {
    "lines_to_next_cell": 2
   },
   "outputs": [],
   "source": [
    "enrollments_df.columns = enrollments_df.columns.str.lower().str.replace(\" \", \"_\")"
   ]
  },
  {
   "cell_type": "code",
   "execution_count": 70,
   "id": "d2003486",
   "metadata": {
    "lines_to_next_cell": 2
   },
   "outputs": [
    {
     "name": "stdout",
     "output_type": "stream",
     "text": [
      "Students DataFrame Columns: Index(['student_id', 'first_name', 'last_name', 'birthddate', 'gender',\n",
      "       'majorfield', 'admission_year', 'current_gpa', 'contact_email',\n",
      "       'mobile_number', 'home_city', 'home_country'],\n",
      "      dtype='object')\n"
     ]
    }
   ],
   "source": [
    "print(\"Students DataFrame Columns:\", students_df.columns)"
   ]
  },
  {
   "cell_type": "code",
   "execution_count": 72,
   "id": "e7706d1b",
   "metadata": {},
   "outputs": [
    {
     "name": "stdout",
     "output_type": "stream",
     "text": [
      "Enrollments DataFrame Columns: Index(['enrollment_id', 'stud_ref_id', 'subject_code', 'course_title',\n",
      "       'instructor_name', 'enroll_count', 'term_offered', 'course_fee',\n",
      "       'final_result', 'attend_percentage', 'date_enrolled'],\n",
      "      dtype='object')\n"
     ]
    }
   ],
   "source": [
    "print(\"Enrollments DataFrame Columns:\", enrollments_df.columns)"
   ]
  },
  {
   "cell_type": "markdown",
   "id": "a0d0b232",
   "metadata": {},
   "source": [
    "## **7. Convert Data Types Where Needed**\n",
    "\n",
    "Check which columns should be numeric or datetime. Columns like `admission_year` or `course_fee` might be read as **strings** by default. Convert them to numerical or date formats if necessary.\n",
    "\n",
    "**📝 Tip:** Make sure you handle errors gracefully (e.g., set `errors='coerce'` to turn invalid entries into NaN)."
   ]
  },
  {
   "cell_type": "code",
   "execution_count": 74,
   "id": "0ebd2f7b",
   "metadata": {
    "lines_to_next_cell": 2
   },
   "outputs": [
    {
     "name": "stdout",
     "output_type": "stream",
     "text": [
      "student_id         object\n",
      "first_name         object\n",
      "last_name          object\n",
      "birthddate         object\n",
      "gender             object\n",
      "majorfield         object\n",
      "admission_year     object\n",
      "current_gpa       float64\n",
      "contact_email      object\n",
      "mobile_number     float64\n",
      "home_city          object\n",
      "home_country       object\n",
      "dtype: object\n",
      "enrollment_id        object\n",
      "stud_ref_id          object\n",
      "subject_code         object\n",
      "course_title         object\n",
      "instructor_name      object\n",
      "enroll_count          int64\n",
      "term_offered         object\n",
      "course_fee           object\n",
      "final_result         object\n",
      "attend_percentage     int64\n",
      "date_enrolled        object\n",
      "dtype: object\n"
     ]
    }
   ],
   "source": [
    "#CHECK EXISTING DATA TYPES\n",
    "print(students_df.dtypes)\n",
    "print(enrollments_df.dtypes)"
   ]
  },
  {
   "cell_type": "code",
   "execution_count": 76,
   "id": "5f177231",
   "metadata": {
    "lines_to_next_cell": 2
   },
   "outputs": [],
   "source": [
    "students_df[\"admission_year\"] = pd.to_numeric(students_df[\"admission_year\"], errors=\"coerce\")\n",
    "enrollments_df[\"course_fee\"] = pd.to_numeric(enrollments_df[\"course_fee\"], errors=\"coerce\")"
   ]
  },
  {
   "cell_type": "code",
   "execution_count": 80,
   "id": "6a699f8f",
   "metadata": {
    "lines_to_next_cell": 2
   },
   "outputs": [
    {
     "name": "stdout",
     "output_type": "stream",
     "text": [
      "Index(['student_id', 'first_name', 'last_name', 'birthddate', 'gender',\n",
      "       'majorfield', 'admission_year', 'current_gpa', 'contact_email',\n",
      "       'mobile_number', 'home_city', 'home_country'],\n",
      "      dtype='object')\n",
      "Index(['enrollment_id', 'stud_ref_id', 'subject_code', 'course_title',\n",
      "       'instructor_name', 'enroll_count', 'term_offered', 'course_fee',\n",
      "       'final_result', 'attend_percentage', 'date_enrolled'],\n",
      "      dtype='object')\n"
     ]
    }
   ],
   "source": [
    "print(students_df.columns)\n",
    "print(enrollments_df.columns)"
   ]
  },
  {
   "cell_type": "code",
   "execution_count": 90,
   "id": "549fa20a",
   "metadata": {},
   "outputs": [],
   "source": [
    "enrollments_df[\"date_enrolled\"] = pd.to_datetime(enrollments_df[\"date_enrolled\"], errors=\"coerce\")"
   ]
  },
  {
   "cell_type": "code",
   "execution_count": 104,
   "id": "ec1c3baf-db19-4e8d-8c0a-e480df872ac9",
   "metadata": {},
   "outputs": [],
   "source": [
    "students_df[\"birthdate\"] = pd.to_datetime(students_df.get(\"birthdate\"), errors=\"coerce\")"
   ]
  },
  {
   "cell_type": "markdown",
   "id": "5c9b9c86",
   "metadata": {},
   "source": [
    "## **8. Fill Missing Values with a Specified Value or Method**\n",
    "\n",
    "Instead of **dropping** missing values, consider **replacing** them. For instance:\n",
    "\n",
    "-   A string like `\"Unknown\"` for missing text\n",
    "-   A **mean** or **median** for missing numeric columns\n",
    "-   A **forward** or **backward fill** if appropriate"
   ]
  },
  {
   "cell_type": "code",
   "execution_count": 108,
   "id": "78b57f5d",
   "metadata": {
    "lines_to_next_cell": 2
   },
   "outputs": [],
   "source": [
    "students_df = students_df.copy()  # Ensure it's not a copy\n",
    "\n",
    "students_df.loc[:, \"contact_email\"] = students_df[\"contact_email\"].fillna(\"Unknown\")\n",
    "students_df.loc[:, \"home_city\"] = students_df[\"home_city\"].fillna(\"Unknown\")\n",
    "students_df.loc[:, \"majorfield\"] = students_df[\"majorfield\"].fillna(\"Undeclared\")"
   ]
  },
  {
   "cell_type": "code",
   "execution_count": 114,
   "id": "ed35e041",
   "metadata": {
    "lines_to_next_cell": 2
   },
   "outputs": [],
   "source": [
    "students_df.loc[:, \"birthdate\"] = students_df[\"birthdate\"].fillna(pd.Timestamp(\"2000-01-01\"))\n",
    "enrollments_df.loc[:, \"date_enrolled\"] = enrollments_df[\"date_enrolled\"].fillna(pd.Timestamp(\"2020-01-01\"))"
   ]
  },
  {
   "cell_type": "code",
   "execution_count": 118,
   "id": "d2f0b58b",
   "metadata": {},
   "outputs": [
    {
     "name": "stdout",
     "output_type": "stream",
     "text": [
      "enrollment_id        0\n",
      "stud_ref_id          0\n",
      "subject_code         0\n",
      "course_title         0\n",
      "instructor_name      0\n",
      "enroll_count         0\n",
      "term_offered         0\n",
      "course_fee           0\n",
      "final_result         0\n",
      "attend_percentage    0\n",
      "date_enrolled        0\n",
      "dtype: int64\n"
     ]
    }
   ],
   "source": [
    "# your print(students_df.isnull().sum())\n",
    "print(enrollments_df.isnull().sum())"
   ]
  },
  {
   "cell_type": "code",
   "execution_count": 120,
   "id": "0c88300e-74c7-478d-bb6c-757709fc8b60",
   "metadata": {},
   "outputs": [
    {
     "name": "stdout",
     "output_type": "stream",
     "text": [
      "student_id        0\n",
      "first_name        0\n",
      "last_name         0\n",
      "birthddate        0\n",
      "gender            0\n",
      "majorfield        0\n",
      "admission_year    1\n",
      "current_gpa       0\n",
      "contact_email     0\n",
      "mobile_number     6\n",
      "home_city         0\n",
      "home_country      0\n",
      "birthdate         0\n",
      "dtype: int64\n"
     ]
    }
   ],
   "source": [
    "print(students_df.isnull().sum())"
   ]
  },
  {
   "cell_type": "code",
   "execution_count": 128,
   "id": "4d1f1292-84f8-4f7f-8e1e-48cf0ac43659",
   "metadata": {},
   "outputs": [],
   "source": [
    "students_df.loc[:, \"admission_year\"] = students_df[\"admission_year\"].fillna(students_df[\"admission_year\"].mode()[0])"
   ]
  },
  {
   "cell_type": "code",
   "execution_count": 132,
   "id": "fd29aa87-1cd5-472d-adbb-fc4a1eef51fd",
   "metadata": {},
   "outputs": [],
   "source": [
    "students_df[\"mobile_number\"].fillna(\"000-000-0000\", inplace=True)"
   ]
  },
  {
   "cell_type": "code",
   "execution_count": 134,
   "id": "379de361-2824-4462-b6cb-b8d9804a2d9c",
   "metadata": {},
   "outputs": [
    {
     "name": "stdout",
     "output_type": "stream",
     "text": [
      "student_id        0\n",
      "first_name        0\n",
      "last_name         0\n",
      "birthddate        0\n",
      "gender            0\n",
      "majorfield        0\n",
      "admission_year    0\n",
      "current_gpa       0\n",
      "contact_email     0\n",
      "mobile_number     0\n",
      "home_city         0\n",
      "home_country      0\n",
      "birthdate         0\n",
      "dtype: int64\n"
     ]
    }
   ],
   "source": [
    "print(students_df.isnull().sum())"
   ]
  },
  {
   "cell_type": "markdown",
   "id": "22ebe829",
   "metadata": {},
   "source": [
    "## **9. Drop Rows or Columns with Missing Values (If Needed)**\n",
    "\n",
    "After considering which values can be filled, you might choose to **remove** rows or columns that are missing too much data or can’t be fixed.\n",
    "\n",
    "**📝 Tip:** Decide carefully and confirm you don’t need the dropped information. Use `inplace=True` or keep a separate DataFrame if you want to preserve the original data."
   ]
  },
  {
   "cell_type": "code",
   "execution_count": 28,
   "id": "92e7650f",
   "metadata": {
    "lines_to_next_cell": 2
   },
   "outputs": [],
   "source": [
    "# I fixed all the missing values see above "
   ]
  },
  {
   "cell_type": "code",
   "execution_count": 29,
   "id": "08a7923f",
   "metadata": {
    "lines_to_next_cell": 2
   },
   "outputs": [],
   "source": [
    "# your code here"
   ]
  },
  {
   "cell_type": "code",
   "execution_count": 30,
   "id": "d450d8e8",
   "metadata": {
    "lines_to_next_cell": 2
   },
   "outputs": [],
   "source": [
    "# your code here"
   ]
  },
  {
   "cell_type": "code",
   "execution_count": 31,
   "id": "170d366e",
   "metadata": {},
   "outputs": [],
   "source": [
    "# your code here"
   ]
  },
  {
   "cell_type": "markdown",
   "id": "ea28c50f",
   "metadata": {},
   "source": [
    "## **10. Filter Rows Based on a Condition**\n",
    "\n",
    "Now that columns like `admission_year` and `course_fee` (or `current_gpa`) are numeric, experiment with filtering. For example:\n",
    "\n",
    "-   Students whose `admission_year` is after a certain date\n",
    "-   Enrollments for `Spring 2026`"
   ]
  },
  {
   "cell_type": "code",
   "execution_count": 138,
   "id": "ba8fe133",
   "metadata": {
    "lines_to_next_cell": 2
   },
   "outputs": [
    {
     "name": "stdout",
     "output_type": "stream",
     "text": [
      "    student_id   first_name  last_name  birthddate gender        majorfield  \\\n",
      "2       STU003        Priya      Patel   1/23/1999      F       Engineering   \n",
      "4       STU005        Emily      Smith   7/30/2000      F           Physics   \n",
      "5       STU006       Robert      Brown   3/20/1995      M        Undeclared   \n",
      "8       STU009       Sophia      Lopez   9/30/1999      F  Computer Science   \n",
      "12      STU013      Michael     Miller   11/2/1999      M           Physics   \n",
      "14      STU015        David      Moore   7/19/1998      M         Economics   \n",
      "16      STU017        Chris   Anderson   12/1/1999      M  Computer Science   \n",
      "18      STU019        James    Jackson   4/28/1998      M       Engineering   \n",
      "22      STU023        Lucas   Martinez    6/6/1999      M       Engineering   \n",
      "24      STU025       Elijah  Hernandez  12/30/1998      M           Physics   \n",
      "26      STU027         Noah   Gonzalez    9/9/1999      M         Economics   \n",
      "28      STU029      William   Anderson    7/7/1998      M  Computer Science   \n",
      "30      STU031        Henry     Taylor   1/15/1999      M       Engineering   \n",
      "32      STU033       Samuel    Jackson   6/17/1998      M           Physics   \n",
      "35      STU013      Michael     Miller   11/2/1999      M           Physics   \n",
      "37      STU035         Jack        Lee   3/11/1999      M         Economics   \n",
      "39      STU037      Anthony   Martinez  11/30/1998      M  Computer Science   \n",
      "41      STU039       Andrew      Clark    8/8/1999      M       Engineering   \n",
      "43      STU041       Joseph     Walker    4/4/1998      M           Physics   \n",
      "45      STU043      Charles      Allen  10/10/1999      M         Economics   \n",
      "47      STU045  Christopher  Hernandez    5/5/1998      M  Computer Science   \n",
      "49      STU047      Matthew     Wright  11/20/1999      M       Engineering   \n",
      "51      STU049       Joshua       Hill    7/7/1998      M           Physics   \n",
      "53      STU051       Oliver      Green    1/1/1999      M         Economics   \n",
      "57      STU055        Logan     Nelson  10/10/1999      M       Engineering   \n",
      "59      STU057         Liam   Mitchell   4/14/1998      M           Physics   \n",
      "61      STU059         Noah     Turner    5/5/1999      M         Economics   \n",
      "63      STU061      Jackson      Evans    4/4/1998      M  Computer Science   \n",
      "65      STU063        Caleb    Collins    9/9/1999      M       Engineering   \n",
      "67      STU065        Isaac    Sanchez    1/1/1998      M           Physics   \n",
      "69      STU067        Ethan     Rogers    3/3/1999      M         Economics   \n",
      "71      STU069        Logan       Cook    5/5/1998      M  Computer Science   \n",
      "73      STU071        Jacob       Bell    7/7/1999      M       Engineering   \n",
      "75      STU073      Anthony     Bailey    9/9/1998      M           Physics   \n",
      "77      STU075       Connor     Cooper  11/11/1999      M         Economics   \n",
      "79      STU077       Isaiah        Cox   1/13/1998      M  Computer Science   \n",
      "81      STU079         Owen       Ward   3/15/1999      M       Engineering   \n",
      "83      STU081       Julian       Gray   5/17/1998      M           Physics   \n",
      "85      STU083         Levi      James   7/19/1999      M         Economics   \n",
      "87      STU085       Carter     Brooks   9/21/1998      M  Computer Science   \n",
      "89      STU087        Wyatt      Price  11/23/1999      M       Engineering   \n",
      "91      STU089       Landon       Wood   1/25/1998      M           Physics   \n",
      "93      STU091         Evan       Long   3/27/1999      M         Economics   \n",
      "95      STU093        Isaac       Diaz   5/29/1998      M  Computer Science   \n",
      "97      STU095       Adrian   Castillo    7/1/1999      M       Engineering   \n",
      "99      STU097       Julian     Foster    9/3/1998      M           Physics   \n",
      "101     STU099       Isaiah        Kim   11/5/1999      M         Economics   \n",
      "\n",
      "     admission_year  current_gpa                      contact_email  \\\n",
      "2            2021.0         3.70            priya.patel@example.com   \n",
      "4            2022.0         3.90            emily.smith@example.com   \n",
      "5            2023.0         3.30           robert.brown@example.com   \n",
      "8            2021.0         3.70           sophia.lopez@example.com   \n",
      "12           2021.0         3.70         michael.miller@example.com   \n",
      "14           2022.0         3.56            david.moore@example.com   \n",
      "16           2021.0         3.40         chris.anderson@example.com   \n",
      "18           2022.0         3.60          james.jackson@example.com   \n",
      "22           2021.0         3.10         lucas.martinez@example.com   \n",
      "24           2022.0         3.90       elijah.hernandez@example.com   \n",
      "26           2021.0         3.50          noah.gonzalez@example.com   \n",
      "28           2022.0         3.60       william.anderson@example.com   \n",
      "30           2021.0         3.80           henry.taylor@example.com   \n",
      "32           2022.0         3.20         samuel.jackson@example.com   \n",
      "35           2021.0         3.70         michael.miller@example.com   \n",
      "37           2021.0         3.50               jack.lee@example.com   \n",
      "39           2022.0         3.40       anthony.martinez@example.com   \n",
      "41           2021.0         3.50           andrew.clark@example.com   \n",
      "43           2022.0         3.80          joseph.walker@example.com   \n",
      "45           2021.0         3.20          charles.allen@example.com   \n",
      "47           2022.0         3.40  christopher.hernandez@example.com   \n",
      "49           2021.0         3.60         matthew.wright@example.com   \n",
      "51           2022.0         3.80            joshua.hill@example.com   \n",
      "53           2021.0         3.20           oliver.green@example.com   \n",
      "57           2021.0         3.60           logan.nelson@example.com   \n",
      "59           2022.0         3.80          liam.mitchell@example.com   \n",
      "61           2021.0         3.20            noah.turner@example.com   \n",
      "63           2022.0         3.40          jackson.evans@example.com   \n",
      "65           2021.0         3.60          caleb.collins@example.com   \n",
      "67           2022.0         3.80          isaac.sanchez@example.com   \n",
      "69           2021.0         3.20           ethan.rogers@example.com   \n",
      "71           2022.0         3.40             logan.cook@example.com   \n",
      "73           2021.0         3.60             jacob.bell@example.com   \n",
      "75           2022.0         3.80         anthony.bailey@example.com   \n",
      "77           2021.0         3.20          connor.cooper@example.com   \n",
      "79           2022.0         3.40             isaiah.cox@example.com   \n",
      "81           2021.0         3.56              owen.ward@example.com   \n",
      "83           2022.0         3.80            julian.gray@example.com   \n",
      "85           2021.0         3.20             levi.james@example.com   \n",
      "87           2022.0         3.40          carter.brooks@example.com   \n",
      "89           2021.0         3.56            wyatt.price@example.com   \n",
      "91           2022.0         3.80            landon.wood@example.com   \n",
      "93           2021.0         3.20              evan.long@example.com   \n",
      "95           2022.0         3.40             isaac.diaz@example.com   \n",
      "97           2021.0         3.60        adrian.castillo@example.com   \n",
      "99           2022.0         3.80          julian.foster@example.com   \n",
      "101          2021.0         3.20             isaiah.kim@example.com   \n",
      "\n",
      "    mobile_number       home_city home_country  birthdate  \n",
      "2          -657.0          Mumbai        India 2000-01-01  \n",
      "4          -659.0        New York          USA 2000-01-01  \n",
      "5          -660.0     Los Angeles          USA 2000-01-01  \n",
      "8         Unknown          Dublin      Ireland 2000-01-01  \n",
      "12         -667.0         Toronto       Canada 2000-01-01  \n",
      "14         -669.0       Vancouver       Canada 2000-01-01  \n",
      "16         -671.0       Sao Paulo       Brazil 2000-01-01  \n",
      "18         -673.0          Munich      Germany 2000-01-01  \n",
      "22         -677.0   San Francisco          USA 2000-01-01  \n",
      "24         -679.0         Seattle          USA 2000-01-01  \n",
      "26         -681.0         Orlando          USA 2000-01-01  \n",
      "28         -683.0    Philadelphia          USA 2000-01-01  \n",
      "30         -685.0          Dallas          USA 2000-01-01  \n",
      "32         -687.0        Columbus          USA 2000-01-01  \n",
      "35         -667.0         Toronto       Canada 2000-01-01  \n",
      "37         -689.0       Charlotte          USA 2000-01-01  \n",
      "39         -691.0         El Paso          USA 2000-01-01  \n",
      "41         -693.0       Baltimore          USA 2000-01-01  \n",
      "43         -695.0     Albuquerque          USA 2000-01-01  \n",
      "45         -697.0         Oakland          USA 2000-01-01  \n",
      "47        Unknown       Arlington          USA 2000-01-01  \n",
      "49         -701.0       Cleveland          USA 2000-01-01  \n",
      "51         -703.0      Fort Wayne          USA 2000-01-01  \n",
      "53         -705.0  Corpus Christi          USA 2000-01-01  \n",
      "57         -709.0     Chula Vista          USA 2000-01-01  \n",
      "59         -711.0        Glendale          USA 2000-01-01  \n",
      "61         -713.0         Garland          USA 2000-01-01  \n",
      "63         -715.0          Irving          USA 2000-01-01  \n",
      "65         -717.0      Scottsdale          USA 2000-01-01  \n",
      "67         -719.0           Boise          USA 2000-01-01  \n",
      "69         -721.0    Fayetteville          USA 2000-01-01  \n",
      "71         -723.0        El Monte          USA 2000-01-01  \n",
      "73         -725.0        Stamford          USA 2000-01-01  \n",
      "75         -727.0  San Bernardino          USA 2000-01-01  \n",
      "77         -729.0      Birmingham          USA 2000-01-01  \n",
      "79         -731.0      Montgomery          USA 2000-01-01  \n",
      "81         -733.0       Arlington          USA 2000-01-01  \n",
      "83         -735.0          Newark          USA 2000-01-01  \n",
      "85         -737.0          Durham          USA 2000-01-01  \n",
      "87         -739.0  San Bernardino          USA 2000-01-01  \n",
      "89         -741.0          Toledo          USA 2000-01-01  \n",
      "91        Unknown    Newport News          USA 2000-01-01  \n",
      "93         -745.0        Paterson          USA 2000-01-01  \n",
      "95         -747.0           Salem          USA 2000-01-01  \n",
      "97          753.0        Stamford          USA 2000-01-01  \n",
      "99         -751.0          Toledo          USA 2000-01-01  \n",
      "101        -753.0         Orlando          USA 2000-01-01  \n"
     ]
    }
   ],
   "source": [
    "students_after_2020 = students_df[students_df[\"admission_year\"] > 2020]\n",
    "print(students_after_2020)"
   ]
  },
  {
   "cell_type": "code",
   "execution_count": 140,
   "id": "11bc5b09",
   "metadata": {
    "lines_to_next_cell": 2
   },
   "outputs": [
    {
     "name": "stdout",
     "output_type": "stream",
     "text": [
      "              enrollment_id stud_ref_id subject_code       course_title  \\\n",
      "0   ENR-STU001-MATH101-AB12      STU001      MATH101         Calculus I   \n",
      "2     ENR-STU003-CS301-EF56      STU003        CS301    Programming 101   \n",
      "4   ENR-STU005-CHEM110-IJ90      STU005      CHEM110  Organic Chemistry   \n",
      "6   ENR-STU007-MATH101-MN34      STU007      MATH101         Calculus I   \n",
      "8     ENR-STU009-CS301-QR78      STU009        CS301    Programming 101   \n",
      "10  ENR-STU011-CHEM110-AB12      STU011      CHEM110  Organic Chemistry   \n",
      "12  ENR-STU013-MATH101-EF56      STU013      MATH101         Calculus I   \n",
      "14    ENR-STU015-CS301-IJ90      STU015        CS301    Programming 101   \n",
      "16  ENR-STU017-CHEM110-MN34      STU017      CHEM110  Organic Chemistry   \n",
      "18  ENR-STU019-MATH101-QR78      STU019      MATH101         Calculus I   \n",
      "20    ENR-STU021-CS301-AB12      STU021        CS301    Programming 101   \n",
      "22  ENR-STU023-CHEM110-EF56      STU023      CHEM110  Organic Chemistry   \n",
      "24  ENR-STU025-MATH101-IJ90      STU025      MATH101         Calculus I   \n",
      "26    ENR-STU027-CS301-MN34      STU027        CS301    Programming 101   \n",
      "28  ENR-STU029-CHEM110-QR78      STU029      CHEM110  Organic Chemistry   \n",
      "30  ENR-STU031-MATH101-AB12      STU031      MATH101         Calculus I   \n",
      "32    ENR-STU033-CS301-EF56      STU033        CS301    Programming 101   \n",
      "34  ENR-STU035-CHEM110-IJ90      STU035      CHEM110  Organic Chemistry   \n",
      "36  ENR-STU037-MATH101-MN34      STU037      MATH101         Calculus I   \n",
      "38    ENR-STU039-CS301-QR78      STU039        CS301    Programming 101   \n",
      "40  ENR-STU041-CHEM110-AB12      STU041      CHEM110  Organic Chemistry   \n",
      "42  ENR-STU043-MATH101-EF56      STU043      MATH101         Calculus I   \n",
      "44    ENR-STU045-CS301-IJ90      STU045        CS301    Programming 101   \n",
      "46  ENR-STU047-CHEM110-MN34      STU047      CHEM110  Organic Chemistry   \n",
      "48  ENR-STU049-MATH101-QR78      STU049      MATH101         Calculus I   \n",
      "50    ENR-STU051-CS301-AB12      STU051        CS301    Programming 101   \n",
      "52  ENR-STU053-CHEM110-EF56      STU053      CHEM110  Organic Chemistry   \n",
      "54  ENR-STU055-MATH101-IJ90      STU055      MATH101         Calculus I   \n",
      "56    ENR-STU057-CS301-MN34      STU057        CS301    Programming 101   \n",
      "58  ENR-STU059-CHEM110-QR78      STU059      CHEM110  Organic Chemistry   \n",
      "60  ENR-STU061-MATH101-AB12      STU061      MATH101         Calculus I   \n",
      "62    ENR-STU063-CS301-EF56      STU063        CS301    Programming 101   \n",
      "64  ENR-STU065-CHEM110-IJ90      STU065      CHEM110  Organic Chemistry   \n",
      "66  ENR-STU067-MATH101-MN34      STU067      MATH101         Calculus I   \n",
      "68    ENR-STU069-CS301-QR78      STU069        CS301    Programming 101   \n",
      "70  ENR-STU071-CHEM110-AB12      STU071      CHEM110  Organic Chemistry   \n",
      "72  ENR-STU073-MATH101-EF56      STU073      MATH101         Calculus I   \n",
      "74    ENR-STU075-CS301-IJ90      STU075        CS301    Programming 101   \n",
      "76  ENR-STU077-CHEM110-MN34      STU077      CHEM110  Organic Chemistry   \n",
      "78  ENR-STU079-MATH101-QR78      STU079      MATH101         Calculus I   \n",
      "80    ENR-STU081-CS301-AB12      STU081        CS301    Programming 101   \n",
      "82  ENR-STU083-CHEM110-EF56      STU083      CHEM110  Organic Chemistry   \n",
      "84  ENR-STU085-MATH101-IJ90      STU085      MATH101         Calculus I   \n",
      "86    ENR-STU087-CS301-MN34      STU087        CS301    Programming 101   \n",
      "88  ENR-STU089-CHEM110-QR78      STU089      CHEM110  Organic Chemistry   \n",
      "90  ENR-STU091-MATH101-AB12      STU091      MATH101         Calculus I   \n",
      "92    ENR-STU093-CS301-EF56      STU093        CS301    Programming 101   \n",
      "94  ENR-STU095-CHEM110-IJ90      STU095      CHEM110  Organic Chemistry   \n",
      "96  ENR-STU097-MATH101-MN34      STU097      MATH101         Calculus I   \n",
      "98    ENR-STU099-CS301-QR78      STU099        CS301    Programming 101   \n",
      "\n",
      "   instructor_name  enroll_count term_offered  course_fee final_result  \\\n",
      "0        Dr. Smith            25  Spring 2026      1000.0            A   \n",
      "2       Dr. Taylor            27  Spring 2026      1200.0           C+   \n",
      "4        Dr. Kumar            29  Spring 2026      1400.0           B-   \n",
      "6        dr. smith            31  Spring 2026      1600.0            A   \n",
      "8       Dr. Taylor            26  Spring 2026      1100.0           C+   \n",
      "10       Dr. Kumar            28  Spring 2026      1300.0                \n",
      "12       Dr. Smith            30  Spring 2026      1500.0            A   \n",
      "14      Dr. Taylor            25  Spring 2026      1000.0           C+   \n",
      "16       Dr. Kumar            27  Spring 2026      1200.0           B-   \n",
      "18       Dr. Smith            29  Spring 2026      1400.0            A   \n",
      "20      Dr. Taylor            31  Spring 2026      1600.0           C+   \n",
      "22       Dr. Kumar            26  Spring 2026      1100.0           B-   \n",
      "24       Dr. Smith            28  Spring 2026      1300.0            A   \n",
      "26      Dr. Taylor            30  Spring 2026      1500.0           C+   \n",
      "28       Dr. Kumar            25  Spring 2026      1000.0           B-   \n",
      "30       dr. smith            27  Spring 2026      1200.0            A   \n",
      "32      Dr. Taylor            29  Spring 2026      1300.0           C+   \n",
      "34       Dr. Kumar            31  Spring 2026      1600.0           B-   \n",
      "36       Dr. Smith            26  Spring 2026      1100.0            A   \n",
      "38      Dr. Taylor            28  Spring 2026      1300.0           C+   \n",
      "40       Dr. Kumar            30  Spring 2026      1500.0           B-   \n",
      "42       Dr. Smith            25  Spring 2026      1000.0            A   \n",
      "44      Dr. Taylor            27  Spring 2026      1200.0           C+   \n",
      "46       Dr. Kumar            29  Spring 2026      1400.0           B-   \n",
      "48       Dr. Smith            31  Spring 2026      1600.0            A   \n",
      "50      Dr. Taylor            26  Spring 2026      1100.0           C+   \n",
      "52       Dr. Kumar            28  Spring 2026      1300.0           B-   \n",
      "54       Dr. Smith            30  Spring 2026      1500.0            A   \n",
      "56      Dr. Taylor            25  Spring 2026      1000.0           C+   \n",
      "58       Dr. Kumar            27  Spring 2026      1200.0           B-   \n",
      "60       Dr. Smith            29  Spring 2026      1400.0            A   \n",
      "62      Dr. Taylor            31  Spring 2026      1600.0           C+   \n",
      "64       Dr. Kumar            26  Spring 2026      1100.0           B-   \n",
      "66       Dr. Smith            28  Spring 2026      1300.0            A   \n",
      "68      Dr. Taylor            30  Spring 2026      1500.0           C+   \n",
      "70       Dr. Kumar            25  Spring 2026      1000.0           B-   \n",
      "72       Dr. Smith            27  Spring 2026      1200.0            A   \n",
      "74      Dr. Taylor            29  Spring 2026      1400.0           C+   \n",
      "76       Dr. Kumar            31  Spring 2026      1600.0           B-   \n",
      "78       Dr. Smith            26  Spring 2026      1100.0            A   \n",
      "80      Dr. Taylor            28  Spring 2026      1300.0           C+   \n",
      "82       Dr. Kumar            30  Spring 2026      1500.0           B-   \n",
      "84       Dr. Smith            25  Spring 2026      1000.0            A   \n",
      "86      Dr. Taylor            27  Spring 2026      1200.0           C+   \n",
      "88       Dr. Kumar            29  Spring 2026      1400.0           B-   \n",
      "90       dr. smith            31  Spring 2026      1600.0            A   \n",
      "92      Dr. Taylor            26  Spring 2026      1100.0           C+   \n",
      "94       Dr. Kumar            28  Spring 2026      1300.0           B-   \n",
      "96       Dr. Smith            30  Spring 2026      1500.0            A   \n",
      "98      Dr. Taylor            25  Spring 2026      1000.0           C+   \n",
      "\n",
      "    attend_percentage date_enrolled  \n",
      "0                  71    2026-01-15  \n",
      "2                  73    2026-01-15  \n",
      "4                  75    2020-01-01  \n",
      "6                  77    2026-01-15  \n",
      "8                  79    2020-01-01  \n",
      "10                 81    2026-01-15  \n",
      "12                 83    2020-01-01  \n",
      "14                 85    2020-01-01  \n",
      "16                 87    2020-01-01  \n",
      "18                 89    2020-01-01  \n",
      "20                 70    2026-01-15  \n",
      "22                 72    2020-01-01  \n",
      "24                 74    2020-01-01  \n",
      "26                 76    2020-01-01  \n",
      "28                 78    2020-01-01  \n",
      "30                 80    2026-01-15  \n",
      "32                 82    2020-01-01  \n",
      "34                 84    2020-01-01  \n",
      "36                 86    2020-01-01  \n",
      "38                 88    2020-01-01  \n",
      "40                 90    2026-01-15  \n",
      "42                 71    2020-01-01  \n",
      "44                 73    2026-01-15  \n",
      "46                 75    2020-01-01  \n",
      "48                 77    2020-01-01  \n",
      "50                 79    2020-01-01  \n",
      "52                 81    2020-01-01  \n",
      "54                 83    2020-01-01  \n",
      "56                 85    2020-01-01  \n",
      "58                 87    2020-01-01  \n",
      "60                 89    2020-01-01  \n",
      "62                 70    2026-01-15  \n",
      "64                 72    2020-01-01  \n",
      "66                 74    2020-01-01  \n",
      "68                 76    2026-01-15  \n",
      "70                 78    2020-01-01  \n",
      "72                 80    2020-01-01  \n",
      "74                 82    2020-01-01  \n",
      "76                 84    2020-01-01  \n",
      "78                 86    2020-01-01  \n",
      "80                 88    2020-01-01  \n",
      "82                 90    2020-01-01  \n",
      "84                 71    2026-01-15  \n",
      "86                 73    2026-01-15  \n",
      "88                 75    2020-01-01  \n",
      "90                 77    2026-01-15  \n",
      "92                 79    2020-01-01  \n",
      "94                 81    2020-01-01  \n",
      "96                 83    2020-01-01  \n",
      "98                 85    2020-01-01  \n"
     ]
    }
   ],
   "source": [
    "spring_2026_enrollments = enrollments_df[enrollments_df[\"term_offered\"] == \"Spring 2026\"]\n",
    "print(spring_2026_enrollments)"
   ]
  },
  {
   "cell_type": "code",
   "execution_count": 34,
   "id": "f7960dd7",
   "metadata": {
    "lines_to_next_cell": 2
   },
   "outputs": [],
   "source": [
    "# your code here"
   ]
  },
  {
   "cell_type": "code",
   "execution_count": 35,
   "id": "56f514d4",
   "metadata": {},
   "outputs": [],
   "source": [
    "# your code here"
   ]
  },
  {
   "cell_type": "markdown",
   "id": "4da1819e",
   "metadata": {},
   "source": [
    "## **11. Select Specific Columns from Each DataFrame**\n",
    "\n",
    "Often, you don’t need all columns at once. For instance, you might extract only:\n",
    "\n",
    "-   `\"student_id\"`, `\"First_Name\"`, `\"last_name\"`, and `\"current_gpa\"` from `students.csv`\n",
    "-   `\"stud_ref_id\"`, `\"course_title\"`, `\"instructor_name\"`, `\"course_fee\"` from `enrollments.json`"
   ]
  },
  {
   "cell_type": "code",
   "execution_count": 142,
   "id": "872c92ae",
   "metadata": {
    "lines_to_next_cell": 2
   },
   "outputs": [
    {
     "name": "stdout",
     "output_type": "stream",
     "text": [
      "  student_id first_name last_name  current_gpa\n",
      "0     STU001       John       Doe          3.5\n",
      "1     STU002      Maria  Gonzalez          3.8\n",
      "2     STU003      Priya     Patel          3.7\n",
      "3     STU004       Alex   Johnson          3.2\n",
      "4     STU005      Emily     Smith          3.9\n"
     ]
    }
   ],
   "source": [
    "students_selected = students_df[[\"student_id\", \"first_name\", \"last_name\", \"current_gpa\"]]\n",
    "print(students_selected.head())  # Verify selection"
   ]
  },
  {
   "cell_type": "code",
   "execution_count": 144,
   "id": "d1677b96",
   "metadata": {
    "lines_to_next_cell": 2
   },
   "outputs": [
    {
     "name": "stdout",
     "output_type": "stream",
     "text": [
      "  stud_ref_id        course_title instructor_name  course_fee\n",
      "0      STU001          Calculus I       Dr. Smith      1000.0\n",
      "1      STU002  English Literature     Prof. Brown      1100.0\n",
      "2      STU003     Programming 101      Dr. Taylor      1200.0\n",
      "3      STU004       World History         Dr. Lee      1300.0\n",
      "4      STU005   Organic Chemistry       Dr. Kumar      1400.0\n"
     ]
    }
   ],
   "source": [
    "enrollments_selected = enrollments_df[[\"stud_ref_id\", \"course_title\", \"instructor_name\", \"course_fee\"]]\n",
    "print(enrollments_selected.head())  # Verify selection"
   ]
  },
  {
   "cell_type": "code",
   "execution_count": 38,
   "id": "37cc3834",
   "metadata": {
    "lines_to_next_cell": 2
   },
   "outputs": [],
   "source": [
    "# your code here"
   ]
  },
  {
   "cell_type": "code",
   "execution_count": 39,
   "id": "490b379d",
   "metadata": {},
   "outputs": [],
   "source": [
    "# your code here"
   ]
  },
  {
   "cell_type": "markdown",
   "id": "012b0c54",
   "metadata": {},
   "source": [
    "## **12. Sort the DataFrame by One or More Columns**\n",
    "\n",
    "Sorting can help you identify which records have the highest or lowest values. For example:\n",
    "\n",
    "-   Sort the **students** DataFrame by `\"current_gpa\"` in descending order\n",
    "-   Sort the **enrollments** DataFrame by `\"course_fee\"` in ascending order\n",
    "\n",
    "**📝 Tip:** You can sort by multiple columns if needed.\n"
   ]
  },
  {
   "cell_type": "code",
   "execution_count": 146,
   "id": "614f00fc",
   "metadata": {
    "lines_to_next_cell": 2
   },
   "outputs": [
    {
     "name": "stdout",
     "output_type": "stream",
     "text": [
      "   student_id first_name last_name  birthddate gender   majorfield  \\\n",
      "31     STU032      Grace     Moore   2/28/1996      F  Mathematics   \n",
      "68     STU066   Victoria    Morris    2/2/1997      F    Chemistry   \n",
      "84     STU082     Aurora    Rivera   6/18/1997      F    Chemistry   \n",
      "92     STU090      Molly    Barnes   2/26/1997      F    Chemistry   \n",
      "76     STU074    Natalie      Ross  10/10/1997      F    Chemistry   \n",
      "\n",
      "    admission_year  current_gpa                contact_email mobile_number  \\\n",
      "31          2020.0          3.9      grace.moore@example.com        -686.0   \n",
      "68          2019.0          3.9  victoria.morris@example.com        -720.0   \n",
      "84          2019.0          3.9    aurora.rivera@example.com        -736.0   \n",
      "92          2019.0          3.9     molly.barnes@example.com        -744.0   \n",
      "76          2019.0          3.9     natalie.ross@example.com        -728.0   \n",
      "\n",
      "       home_city home_country  birthdate  \n",
      "31      San Jose          USA 2000-01-01  \n",
      "68       Modesto          USA 2000-01-01  \n",
      "84   Chula Vista          USA 2000-01-01  \n",
      "92  Grand Rapids          USA 2000-01-01  \n",
      "76       Fontana          USA 2000-01-01  \n"
     ]
    }
   ],
   "source": [
    "students_sorted = students_df.sort_values(by=\"current_gpa\", ascending=False)\n",
    "print(students_sorted.head())  # Check top students by GPA"
   ]
  },
  {
   "cell_type": "code",
   "execution_count": 148,
   "id": "bdb4c756",
   "metadata": {
    "lines_to_next_cell": 2
   },
   "outputs": [
    {
     "name": "stdout",
     "output_type": "stream",
     "text": [
      "              enrollment_id stud_ref_id subject_code        course_title  \\\n",
      "0   ENR-STU001-MATH101-AB12      STU001      MATH101          Calculus I   \n",
      "35   ENR-STU036-PHY210-KL12      STU036       PHY210          Physics II   \n",
      "21  ENR-STU022-HIST105-CD34      STU022      HIST105       World History   \n",
      "42  ENR-STU043-MATH101-EF56      STU043      MATH101          Calculus I   \n",
      "49   ENR-STU050-ENG201-ST90      STU050       ENG201  English Literature   \n",
      "\n",
      "   instructor_name  enroll_count term_offered  course_fee final_result  \\\n",
      "0        Dr. Smith            25  Spring 2026      1000.0            A   \n",
      "35     Prof. Green            25    Fall 2025      1000.0         Pass   \n",
      "21         Dr. Lee            25    Fall 2025      1000.0           B+   \n",
      "42       Dr. Smith            25  Spring 2026      1000.0            A   \n",
      "49     Prof. Brown            25    Fall 2025      1000.0            B   \n",
      "\n",
      "    attend_percentage date_enrolled  \n",
      "0                  71    2026-01-15  \n",
      "35                 85    2020-01-01  \n",
      "21                 71    2020-01-01  \n",
      "42                 71    2020-01-01  \n",
      "49                 78    2020-01-01  \n"
     ]
    }
   ],
   "source": [
    "enrollments_sorted = enrollments_df.sort_values(by=\"course_fee\", ascending=True)\n",
    "print(enrollments_sorted.head())  # Check lowest course fees first"
   ]
  },
  {
   "cell_type": "code",
   "execution_count": 42,
   "id": "fa08f341",
   "metadata": {
    "lines_to_next_cell": 2
   },
   "outputs": [],
   "source": [
    "# your code here"
   ]
  },
  {
   "cell_type": "code",
   "execution_count": 43,
   "id": "89e0b245",
   "metadata": {},
   "outputs": [],
   "source": [
    "# your code here"
   ]
  },
  {
   "cell_type": "markdown",
   "id": "eb5d1e3f",
   "metadata": {},
   "source": [
    "## **13. Group Data by a Column and Compute Aggregate Functions**\n",
    "\n",
    "Grouping lets you see aggregated info by category. For example, group **students** by `\"majorField\"` and compute the average `\"current_gpa\"`. In **enrollments**, group by `\"instructor_name\"` and compute the average `\"course_fee\"`.\n",
    "\n",
    "**📝 Tip:** Aggregations might include `.mean()`, `.sum()`, `.count()`, etc."
   ]
  },
  {
   "cell_type": "code",
   "execution_count": 150,
   "id": "518157a2",
   "metadata": {
    "lines_to_next_cell": 2
   },
   "outputs": [
    {
     "name": "stdout",
     "output_type": "stream",
     "text": [
      "majorfield\n",
      "Biology             3.515385\n",
      "Chemistry           3.850000\n",
      "Computer Science    3.458462\n",
      "Economics           3.313333\n",
      "Engineering         3.563077\n",
      "History             3.398333\n",
      "Mathematics         3.632857\n",
      "Physics             3.753846\n",
      "Undeclared          3.300000\n",
      "Name: current_gpa, dtype: float64\n"
     ]
    }
   ],
   "source": [
    "gpa_by_major = students_df.groupby(\"majorfield\")[\"current_gpa\"].mean()\n",
    "print(gpa_by_major)"
   ]
  },
  {
   "cell_type": "code",
   "execution_count": 152,
   "id": "37cb3a9a",
   "metadata": {
    "lines_to_next_cell": 2
   },
   "outputs": [
    {
     "name": "stdout",
     "output_type": "stream",
     "text": [
      "instructor_name\n",
      "               1200.000000\n",
      "Dr. Kumar      1306.250000\n",
      "Dr. Lee        1282.352941\n",
      "Dr. Smith      1278.571429\n",
      "Dr. Taylor     1258.823529\n",
      "Prof. Brown    1281.250000\n",
      "Prof. Green    1318.750000\n",
      "dr. smith      1475.000000\n",
      "Name: course_fee, dtype: float64\n"
     ]
    }
   ],
   "source": [
    "fee_by_instructor = enrollments_df.groupby(\"instructor_name\")[\"course_fee\"].mean()\n",
    "print(fee_by_instructor)"
   ]
  },
  {
   "cell_type": "code",
   "execution_count": 46,
   "id": "f691e36d",
   "metadata": {
    "lines_to_next_cell": 2
   },
   "outputs": [],
   "source": [
    "# your code here"
   ]
  },
  {
   "cell_type": "code",
   "execution_count": 47,
   "id": "8cf82529",
   "metadata": {},
   "outputs": [],
   "source": [
    "# your code here"
   ]
  },
  {
   "cell_type": "markdown",
   "id": "523849b9",
   "metadata": {},
   "source": [
    "## **14. Apply a Custom Function**\n",
    "\n",
    "Define a normal Python function to transform data in a column. For example, title-case a name or uppercase a field. Apply that function to each element in the column.\n",
    "\n",
    "**📝 Tip:** If your function references another library call or has complex logic, define it above and then use `.apply(...)` with your function name. Once you've done this, see if you do this using lamda notation. "
   ]
  },
  {
   "cell_type": "code",
   "execution_count": 154,
   "id": "b9714884",
   "metadata": {
    "lines_to_next_cell": 2
   },
   "outputs": [],
   "source": [
    "students_df[\"first_name\"] = students_df[\"first_name\"].apply(str.title)\n",
    "students_df[\"last_name\"] = students_df[\"last_name\"].apply(str.title)"
   ]
  },
  {
   "cell_type": "code",
   "execution_count": 156,
   "id": "aaf82dd3",
   "metadata": {
    "lines_to_next_cell": 2
   },
   "outputs": [],
   "source": [
    "enrollments_df[\"course_title\"] = enrollments_df[\"course_title\"].apply(str.upper)"
   ]
  },
  {
   "cell_type": "code",
   "execution_count": 158,
   "id": "77041ef8",
   "metadata": {
    "lines_to_next_cell": 2
   },
   "outputs": [],
   "source": [
    "students_df[\"gpa_category\"] = students_df[\"current_gpa\"].apply(lambda gpa: \"High Honors\" if gpa >= 3.5 else \"Honors\" if gpa >= 3.0 else \"Standard\")"
   ]
  },
  {
   "cell_type": "code",
   "execution_count": 160,
   "id": "65d5741a",
   "metadata": {},
   "outputs": [
    {
     "name": "stdout",
     "output_type": "stream",
     "text": [
      "  student_id first_name last_name  birthddate gender        majorfield  \\\n",
      "0     STU001       John       Doe   4/12/1998      M  Computer Science   \n",
      "1     STU002      Maria  Gonzalez    9/5/1997      F           Biology   \n",
      "2     STU003      Priya     Patel   1/23/1999      F       Engineering   \n",
      "3     STU004       Alex   Johnson  12/15/1996      M       Mathematics   \n",
      "4     STU005      Emily     Smith   7/30/2000      F           Physics   \n",
      "\n",
      "   admission_year  current_gpa               contact_email mobile_number  \\\n",
      "0          2020.0          3.5        john.doe@example.com        -655.0   \n",
      "1          2019.0          3.8  maria.gonzalez@example.com        -656.0   \n",
      "2          2021.0          3.7     priya.patel@example.com        -657.0   \n",
      "3          2018.0          3.2    alex.johnson@example.com       Unknown   \n",
      "4          2022.0          3.9     emily.smith@example.com        -659.0   \n",
      "\n",
      "  home_city home_country  birthdate gpa_category  \n",
      "0     Tampa          USA 2000-01-01  High Honors  \n",
      "1    London           UK 2000-01-01  High Honors  \n",
      "2    Mumbai        India 2000-01-01  High Honors  \n",
      "3    Sydney    Australia 2000-01-01       Honors  \n",
      "4  New York          USA 2000-01-01  High Honors  \n",
      "             enrollment_id stud_ref_id subject_code        course_title  \\\n",
      "0  ENR-STU001-MATH101-AB12      STU001      MATH101          CALCULUS I   \n",
      "1   ENR-STU002-ENG201-CD34      STU002       ENG201  ENGLISH LITERATURE   \n",
      "2    ENR-STU003-CS301-EF56      STU003        CS301     PROGRAMMING 101   \n",
      "3  ENR-STU004-HIST105-GH78      STU004      HIST105       WORLD HISTORY   \n",
      "4  ENR-STU005-CHEM110-IJ90      STU005      CHEM110   ORGANIC CHEMISTRY   \n",
      "\n",
      "  instructor_name  enroll_count term_offered  course_fee final_result  \\\n",
      "0       Dr. Smith            25  Spring 2026      1000.0            A   \n",
      "1     Prof. Brown            26    Fall 2025      1100.0            B   \n",
      "2      Dr. Taylor            27  Spring 2026      1200.0           C+   \n",
      "3         Dr. Lee            28    Fall 2025      1300.0           B+   \n",
      "4       Dr. Kumar            29  Spring 2026      1400.0           B-   \n",
      "\n",
      "   attend_percentage date_enrolled  \n",
      "0                 71    2026-01-15  \n",
      "1                 72    2020-01-01  \n",
      "2                 73    2026-01-15  \n",
      "3                 74    2025-09-01  \n",
      "4                 75    2020-01-01  \n"
     ]
    }
   ],
   "source": [
    "print(students_df.head())\n",
    "print(enrollments_df.head())\n"
   ]
  },
  {
   "cell_type": "markdown",
   "id": "0c240863",
   "metadata": {},
   "source": [
    "## **15. Create a New Column Based on Existing Ones**\n",
    "\n",
    "Use existing columns to generate new ones. For instance, combine `\"First_Name\"` and `\"last_name\"` into `\"full_name\"`, or compute `\"fees_after_tax\"` in enrollments if you assume a tax rate."
   ]
  },
  {
   "cell_type": "code",
   "execution_count": 162,
   "id": "9d7d945d",
   "metadata": {
    "lines_to_next_cell": 2
   },
   "outputs": [
    {
     "name": "stdout",
     "output_type": "stream",
     "text": [
      "  first_name last_name       full_name\n",
      "0       John       Doe        John Doe\n",
      "1      Maria  Gonzalez  Maria Gonzalez\n",
      "2      Priya     Patel     Priya Patel\n",
      "3       Alex   Johnson    Alex Johnson\n",
      "4      Emily     Smith     Emily Smith\n"
     ]
    }
   ],
   "source": [
    "students_df[\"full_name\"] = students_df[\"first_name\"] + \" \" + students_df[\"last_name\"]\n",
    "print(students_df[[\"first_name\", \"last_name\", \"full_name\"]].head())"
   ]
  },
  {
   "cell_type": "code",
   "execution_count": 164,
   "id": "c0a7ed4a",
   "metadata": {
    "lines_to_next_cell": 2
   },
   "outputs": [
    {
     "name": "stdout",
     "output_type": "stream",
     "text": [
      "   course_fee  fees_after_tax\n",
      "0      1000.0          1100.0\n",
      "1      1100.0          1210.0\n",
      "2      1200.0          1320.0\n",
      "3      1300.0          1430.0\n",
      "4      1400.0          1540.0\n"
     ]
    }
   ],
   "source": [
    "# calculate fees after tax assume 10 percent tax \n",
    "enrollments_df[\"fees_after_tax\"] = enrollments_df[\"course_fee\"] * 1.10\n",
    "print(enrollments_df[[\"course_fee\", \"fees_after_tax\"]].head())\n"
   ]
  },
  {
   "cell_type": "code",
   "execution_count": 54,
   "id": "04b685c2",
   "metadata": {
    "lines_to_next_cell": 2
   },
   "outputs": [],
   "source": [
    "# your code here"
   ]
  },
  {
   "cell_type": "code",
   "execution_count": 55,
   "id": "ecc75bf3",
   "metadata": {},
   "outputs": [],
   "source": [
    "# your code here"
   ]
  },
  {
   "cell_type": "markdown",
   "id": "b6cceef0",
   "metadata": {},
   "source": [
    "## **16. Merge Two DataFrames on a Common Column**\n",
    "\n",
    "Combine `students.csv` and `enrollments.json` by matching:\n",
    "\n",
    "-   `stu[\"student_id\"]`\n",
    "-   `enr[\"stud_ref_id\"]` (or rename it first)\n",
    "\n",
    "Check the shape of the merged DataFrame afterward to ensure it merged as expected.\n"
   ]
  },
  {
   "cell_type": "code",
   "execution_count": 166,
   "id": "c5564cfe",
   "metadata": {
    "lines_to_next_cell": 2
   },
   "outputs": [],
   "source": [
    "enrollments_df.rename(columns={\"stud_ref_id\": \"student_id\"}, inplace=True)"
   ]
  },
  {
   "cell_type": "code",
   "execution_count": 168,
   "id": "ed1d7bcd",
   "metadata": {
    "lines_to_next_cell": 2
   },
   "outputs": [],
   "source": [
    "merged_df = pd.merge(students_df, enrollments_df, on=\"student_id\", how=\"inner\")"
   ]
  },
  {
   "cell_type": "code",
   "execution_count": 170,
   "id": "8dcfcaa6",
   "metadata": {
    "lines_to_next_cell": 2
   },
   "outputs": [
    {
     "name": "stdout",
     "output_type": "stream",
     "text": [
      "(104, 26)\n",
      "  student_id first_name last_name  birthddate gender        majorfield  \\\n",
      "0     STU001       John       Doe   4/12/1998      M  Computer Science   \n",
      "1     STU002      Maria  Gonzalez    9/5/1997      F           Biology   \n",
      "2     STU003      Priya     Patel   1/23/1999      F       Engineering   \n",
      "3     STU004       Alex   Johnson  12/15/1996      M       Mathematics   \n",
      "4     STU004       Alex   Johnson  12/15/1996      M       Mathematics   \n",
      "\n",
      "   admission_year  current_gpa               contact_email mobile_number  ...  \\\n",
      "0          2020.0          3.5        john.doe@example.com        -655.0  ...   \n",
      "1          2019.0          3.8  maria.gonzalez@example.com        -656.0  ...   \n",
      "2          2021.0          3.7     priya.patel@example.com        -657.0  ...   \n",
      "3          2018.0          3.2    alex.johnson@example.com       Unknown  ...   \n",
      "4          2018.0          3.2    alex.johnson@example.com       Unknown  ...   \n",
      "\n",
      "  subject_code           course_title instructor_name enroll_count  \\\n",
      "0      MATH101             CALCULUS I       Dr. Smith           25   \n",
      "1       ENG201     ENGLISH LITERATURE     Prof. Brown           26   \n",
      "2        CS301        PROGRAMMING 101      Dr. Taylor           27   \n",
      "3      HIST105          WORLD HISTORY         Dr. Lee           28   \n",
      "4      HIST999  ANCIENT CIVILIZATIONS     Prof. Brown           99   \n",
      "\n",
      "  term_offered course_fee final_result attend_percentage date_enrolled  \\\n",
      "0  Spring 2026     1000.0            A                71    2026-01-15   \n",
      "1    Fall 2025     1100.0            B                72    2020-01-01   \n",
      "2  Spring 2026     1200.0           C+                73    2026-01-15   \n",
      "3    Fall 2025     1300.0           B+                74    2025-09-01   \n",
      "4    Fall 2023     1300.0                             67    2020-01-01   \n",
      "\n",
      "   fees_after_tax  \n",
      "0          1100.0  \n",
      "1          1210.0  \n",
      "2          1320.0  \n",
      "3          1430.0  \n",
      "4          1430.0  \n",
      "\n",
      "[5 rows x 26 columns]\n"
     ]
    }
   ],
   "source": [
    "print(merged_df.shape)  # Shows number of rows and columns\n",
    "print(merged_df.head())  # Displays the first few rows"
   ]
  },
  {
   "cell_type": "code",
   "execution_count": 59,
   "id": "e289eda7",
   "metadata": {},
   "outputs": [],
   "source": [
    "# your code here"
   ]
  },
  {
   "cell_type": "markdown",
   "id": "f551624a",
   "metadata": {},
   "source": [
    "## **17. Remove Duplicate Rows**\n",
    "\n",
    "When merging or concatenating multiple files, duplicates can crop up. Identify them and remove if needed. This might be especially important if the same student or enrollment is listed more than once."
   ]
  },
  {
   "cell_type": "code",
   "execution_count": 172,
   "id": "2e45dae4",
   "metadata": {
    "lines_to_next_cell": 2
   },
   "outputs": [
    {
     "name": "stdout",
     "output_type": "stream",
     "text": [
      "3\n"
     ]
    }
   ],
   "source": [
    "print(merged_df.duplicated().sum())  # Count duplicate rows"
   ]
  },
  {
   "cell_type": "code",
   "execution_count": 174,
   "id": "684d5e9e",
   "metadata": {
    "lines_to_next_cell": 2
   },
   "outputs": [],
   "source": [
    "merged_df = merged_df.drop_duplicates()"
   ]
  },
  {
   "cell_type": "code",
   "execution_count": 176,
   "id": "a0a4913f",
   "metadata": {
    "lines_to_next_cell": 2
   },
   "outputs": [
    {
     "name": "stdout",
     "output_type": "stream",
     "text": [
      "0\n",
      "(101, 26)\n"
     ]
    }
   ],
   "source": [
    "print(merged_df.duplicated().sum())  # Should now be 0\n",
    "print(merged_df.shape)  # Check the new shape after removal"
   ]
  },
  {
   "cell_type": "code",
   "execution_count": 63,
   "id": "3e440ade",
   "metadata": {},
   "outputs": [],
   "source": [
    "# your code here"
   ]
  },
  {
   "cell_type": "markdown",
   "id": "ab305393",
   "metadata": {},
   "source": [
    "## **18. Additional Data Cleaning**\n",
    "\n",
    "Now that you’ve merged or manipulated your data, do a quick final pass:\n",
    "\n",
    "-   Fix any remaining oddities (e.g., negative phone numbers or impossible dates)\n",
    "-   Normalize columns further (e.g., standardize text formatting)\n",
    "\n",
    "**📝 Tip:** You might revisit previous steps if new issues appear.\n"
   ]
  },
  {
   "cell_type": "code",
   "execution_count": 182,
   "id": "9622883a",
   "metadata": {
    "lines_to_next_cell": 2
   },
   "outputs": [],
   "source": [
    "merged_df = merged_df[merged_df[\"birthdate\"] < \"2025-01-01\"]"
   ]
  },
  {
   "cell_type": "code",
   "execution_count": 184,
   "id": "1a9e28f4",
   "metadata": {
    "lines_to_next_cell": 2
   },
   "outputs": [],
   "source": [
    "merged_df[\"first_name\"] = merged_df[\"first_name\"].str.title()\n",
    "merged_df[\"last_name\"] = merged_df[\"last_name\"].str.title()"
   ]
  },
  {
   "cell_type": "code",
   "execution_count": 188,
   "id": "3237121b",
   "metadata": {
    "lines_to_next_cell": 2
   },
   "outputs": [
    {
     "name": "stdout",
     "output_type": "stream",
     "text": [
      "<class 'pandas.core.frame.DataFrame'>\n",
      "Index: 101 entries, 0 to 103\n",
      "Data columns (total 26 columns):\n",
      " #   Column             Non-Null Count  Dtype         \n",
      "---  ------             --------------  -----         \n",
      " 0   student_id         101 non-null    object        \n",
      " 1   first_name         101 non-null    object        \n",
      " 2   last_name          101 non-null    object        \n",
      " 3   birthddate         101 non-null    object        \n",
      " 4   gender             101 non-null    object        \n",
      " 5   majorfield         101 non-null    object        \n",
      " 6   admission_year     101 non-null    float64       \n",
      " 7   current_gpa        101 non-null    float64       \n",
      " 8   contact_email      101 non-null    object        \n",
      " 9   mobile_number      101 non-null    object        \n",
      " 10  home_city          101 non-null    object        \n",
      " 11  home_country       101 non-null    object        \n",
      " 12  birthdate          101 non-null    datetime64[ns]\n",
      " 13  gpa_category       101 non-null    object        \n",
      " 14  full_name          101 non-null    object        \n",
      " 15  enrollment_id      101 non-null    object        \n",
      " 16  subject_code       101 non-null    object        \n",
      " 17  course_title       101 non-null    object        \n",
      " 18  instructor_name    101 non-null    object        \n",
      " 19  enroll_count       101 non-null    int64         \n",
      " 20  term_offered       101 non-null    object        \n",
      " 21  course_fee         101 non-null    float64       \n",
      " 22  final_result       101 non-null    object        \n",
      " 23  attend_percentage  101 non-null    int64         \n",
      " 24  date_enrolled      101 non-null    datetime64[ns]\n",
      " 25  fees_after_tax     101 non-null    float64       \n",
      "dtypes: datetime64[ns](2), float64(4), int64(2), object(18)\n",
      "memory usage: 21.3+ KB\n",
      "None\n",
      "  student_id first_name last_name  birthddate gender        majorfield  \\\n",
      "0     STU001       John       Doe   4/12/1998      M  Computer Science   \n",
      "1     STU002      Maria  Gonzalez    9/5/1997      F           Biology   \n",
      "2     STU003      Priya     Patel   1/23/1999      F       Engineering   \n",
      "3     STU004       Alex   Johnson  12/15/1996      M       Mathematics   \n",
      "4     STU004       Alex   Johnson  12/15/1996      M       Mathematics   \n",
      "\n",
      "   admission_year  current_gpa               contact_email mobile_number  ...  \\\n",
      "0          2020.0          3.5        john.doe@example.com        -655.0  ...   \n",
      "1          2019.0          3.8  maria.gonzalez@example.com        -656.0  ...   \n",
      "2          2021.0          3.7     priya.patel@example.com        -657.0  ...   \n",
      "3          2018.0          3.2    alex.johnson@example.com       Unknown  ...   \n",
      "4          2018.0          3.2    alex.johnson@example.com       Unknown  ...   \n",
      "\n",
      "  subject_code           course_title instructor_name enroll_count  \\\n",
      "0      MATH101             CALCULUS I       Dr. Smith           25   \n",
      "1       ENG201     ENGLISH LITERATURE     Prof. Brown           26   \n",
      "2        CS301        PROGRAMMING 101      Dr. Taylor           27   \n",
      "3      HIST105          WORLD HISTORY         Dr. Lee           28   \n",
      "4      HIST999  ANCIENT CIVILIZATIONS     Prof. Brown           99   \n",
      "\n",
      "  term_offered course_fee final_result attend_percentage date_enrolled  \\\n",
      "0  Spring 2026     1000.0            A                71    2026-01-15   \n",
      "1    Fall 2025     1100.0            B                72    2020-01-01   \n",
      "2  Spring 2026     1200.0           C+                73    2026-01-15   \n",
      "3    Fall 2025     1300.0           B+                74    2025-09-01   \n",
      "4    Fall 2023     1300.0                             67    2020-01-01   \n",
      "\n",
      "   fees_after_tax  \n",
      "0          1100.0  \n",
      "1          1210.0  \n",
      "2          1320.0  \n",
      "3          1430.0  \n",
      "4          1430.0  \n",
      "\n",
      "[5 rows x 26 columns]\n"
     ]
    }
   ],
   "source": [
    "print(merged_df.info())  # Check column types & missing values\n",
    "print(merged_df.head())  # Preview final cleaned data"
   ]
  },
  {
   "cell_type": "code",
   "execution_count": 67,
   "id": "29c0d156",
   "metadata": {},
   "outputs": [],
   "source": [
    "# your code here"
   ]
  },
  {
   "cell_type": "markdown",
   "id": "33c2ac37",
   "metadata": {},
   "source": [
    "## **19. Save the Cleaned and Merged DataFrame to a New CSV File**\n",
    "\n",
    "Finally, when you’re satisfied with your cleaned data, save it. Remember to avoid writing the index as a separate column unless you want it."
   ]
  },
  {
   "cell_type": "code",
   "execution_count": 190,
   "id": "64986045",
   "metadata": {
    "lines_to_next_cell": 2
   },
   "outputs": [],
   "source": [
    "merged_df.to_csv(\"cleaned_data.csv\", index=False)"
   ]
  },
  {
   "cell_type": "code",
   "execution_count": 192,
   "id": "afe950ec",
   "metadata": {
    "lines_to_next_cell": 2
   },
   "outputs": [
    {
     "name": "stdout",
     "output_type": "stream",
     "text": [
      "File exists: True\n"
     ]
    }
   ],
   "source": [
    "import os\n",
    "print(\"File exists:\", os.path.exists(\"cleaned_data.csv\"))"
   ]
  },
  {
   "cell_type": "code",
   "execution_count": 70,
   "id": "c8a656d5",
   "metadata": {
    "lines_to_next_cell": 2
   },
   "outputs": [],
   "source": [
    "# your code here"
   ]
  },
  {
   "cell_type": "code",
   "execution_count": 71,
   "id": "bf520a67",
   "metadata": {},
   "outputs": [],
   "source": [
    "# your code here"
   ]
  },
  {
   "cell_type": "markdown",
   "id": "462cdf88",
   "metadata": {},
   "source": [
    "## **20. Explore Further Analyses (Optional)**\n",
    "\n",
    "Now that your data is in great shape, try some optional challenges:\n",
    "\n",
    "-   Generate charts or visualizations\n",
    "-   Perform advanced filtering or grouping\n",
    "-   Create pivot tables\n",
    "-   Or anything else that interests you!"
   ]
  },
  {
   "cell_type": "code",
   "execution_count": 194,
   "id": "da0f2e54",
   "metadata": {
    "lines_to_next_cell": 2
   },
   "outputs": [
    {
     "name": "stderr",
     "output_type": "stream",
     "text": [
      "Matplotlib is building the font cache; this may take a moment.\n"
     ]
    },
    {
     "data": {
      "image/png": "[encoded data removed]",
      "text/plain": [
       "<Figure size 1000x500 with 1 Axes>"
      ]
     },
     "metadata": {},
     "output_type": "display_data"
    }
   ],
   "source": [
    "import matplotlib.pyplot as plt\n",
    "\n",
    "# Group by major field and calculate the average GPA\n",
    "gpa_by_major = students_df.groupby(\"majorfield\")[\"current_gpa\"].mean()\n",
    "\n",
    "# Plot the bar chart\n",
    "plt.figure(figsize=(10, 5))\n",
    "gpa_by_major.plot(kind=\"bar\", color=\"skyblue\")\n",
    "\n",
    "# Labels and title\n",
    "plt.xlabel(\"Major Field\")\n",
    "plt.ylabel(\"Average GPA\")\n",
    "plt.title(\"Average GPA by Major Field\")\n",
    "plt.xticks(rotation=45)  # Rotate x labels for better readability\n",
    "\n",
    "# Show the chart\n",
    "plt.show()"
   ]
  },
  {
   "cell_type": "code",
   "execution_count": 73,
   "id": "5df20082",
   "metadata": {
    "lines_to_next_cell": 2
   },
   "outputs": [],
   "source": [
    "# your code here"
   ]
  },
  {
   "cell_type": "code",
   "execution_count": 74,
   "id": "0c779f95",
   "metadata": {
    "lines_to_next_cell": 2
   },
   "outputs": [],
   "source": [
    "# your code here"
   ]
  },
  {
   "cell_type": "code",
   "execution_count": 75,
   "id": "f8fdd8d4",
   "metadata": {},
   "outputs": [],
   "source": [
    "# your code here"
   ]
  },
  {
   "cell_type": "markdown",
   "id": "c8006fdd",
   "metadata": {},
   "source": [
    "**🎉 Congratulations!** You’ve now tackled **data cleaning** and many essential **Pandas** operations in `students.csv` and `enrollments.json`. Keep experimenting to sharpen your **data manipulation skills** and unlock deeper insights! 💪"
   ]
  },
  {
   "cell_type": "markdown",
   "id": "16cb0e1d-5f48-4da4-99cb-179e58b862ac",
   "metadata": {},
   "source": []
  },
  {
   "cell_type": "code",
   "execution_count": 198,
   "id": "66baf0fb-eb2b-46b0-bd90-c0c9ecbf2954",
   "metadata": {},
   "outputs": [
    {
     "name": "stdout",
     "output_type": "stream",
     "text": [
      "/Users/sherrikillough/Library/Mobile Documents/com~apple~CloudDocs/Projects/my-ai-toolkit/AAI-101/notebooks/worksheets\n"
     ]
    }
   ],
   "source": [
    "!pwd"
   ]
  },
  {
   "cell_type": "code",
   "execution_count": null,
   "id": "e2b45d89-b6ac-488b-8c21-b42d6264c3c9",
   "metadata": {},
   "outputs": [],
   "source": []
  }
 ],
 "metadata": {
  "jupytext": {
   "cell_metadata_filter": "-all",
   "main_language": "python",
   "notebook_metadata_filter": "-all"
  },
  "kernelspec": {
   "display_name": "Python [conda env:base] *",
   "language": "python",
   "name": "conda-base-py"
  },
  "language_info": {
   "codemirror_mode": {
    "name": "ipython",
    "version": 3
   },
   "file_extension": ".py",
   "mimetype": "text/x-python",
   "name": "python",
   "nbconvert_exporter": "python",
   "pygments_lexer": "ipython3",
   "version": "3.12.7"
  }
 },
 "nbformat": 4,
 "nbformat_minor": 5
}

{
 "cells": [
  {
   "cell_type": "markdown",
   "id": "0a59856f-1b4e-4309-8287-25834b8333b0",
   "metadata": {},
   "source": [
    "# **Introduction to Pandas**\n",
    "\n",
    "## What is Pandas?\n",
    "\n",
    "*Pandas* is a powerful, open-source Python library.\n",
    "- It's designed for data manipulation and analysis and is an essenial tool in Data Science & Machine Learning etc.\n",
    "- It provides *two* main data structures:\n",
    "    - DataFrame\n",
    "    - Series\n",
    "- Pandas enables efficient, streamlined:\n",
    "    - writing to varied file formats such as CSV and JSON.\n",
    "    - data cleaning\n",
    "    - data transformation\n",
    "    - conducting complex data operations\n",
    "- Pandas is intuitive and flexible\n",
    "- Highly popular among Data Scientists & Analysts for data wrangling, exploration, data prep tasks\n",
    "- Machine learning models mainly use he pandas DataFrame as an input.\n",
    "- Using Pandas, being familiar with its syntax, methods, and data manipulation is a ESSENTIAL. \n",
    "\n",
    "## What is a DataFrame?\n",
    "\n",
    "A *DataFrame*:\n",
    "- is a **2D** *labeled* data structure\n",
    "- may have columns with different data types\n",
    "- analogous to a table or spreadsheet (but) in Python\n",
    "- alllows you to handle data in a structured way, making it easy to manipulate, analyze, visualize data\n",
    "- After loading your data into a DataFrame you can filter, group, sort, and much much more!\n",
    "\n",
    "## What kind of data does pandas handle? \n",
    "To load the pandas package and start working with it, import the package. The community agreed alias for pandas is pd, so loading pandas as pd is assumed standard practice for all of the pandas documentation."
   ]
  },
  {
   "cell_type": "code",
   "execution_count": 1,
   "id": "784b0f42-bd71-49dd-a974-f3d493d01e0b",
   "metadata": {},
   "outputs": [],
   "source": [
    "import pandas as pd"
   ]
  },
  {
   "cell_type": "markdown",
   "id": "ffeba59b-e9ea-4332-871d-e57686efcbdd",
   "metadata": {},
   "source": [
    "Let's say that I want to store passenger data of the Titanic. For a number of passengers, I know the name (characters), age (integers) and sex (male/female) data."
   ]
  },
  {
   "cell_type": "code",
   "execution_count": 2,
   "id": "927be582-03b8-4cc7-aaef-7fe52a8728f8",
   "metadata": {},
   "outputs": [
    {
     "data": {
      "text/html": [
       "<div>\n",
       "<style scoped>\n",
       "    .dataframe tbody tr th:only-of-type {\n",
       "        vertical-align: middle;\n",
       "    }\n",
       "\n",
       "    .dataframe tbody tr th {\n",
       "        vertical-align: top;\n",
       "    }\n",
       "\n",
       "    .dataframe thead th {\n",
       "        text-align: right;\n",
       "    }\n",
       "</style>\n",
       "<table border=\"1\" class=\"dataframe\">\n",
       "  <thead>\n",
       "    <tr style=\"text-align: right;\">\n",
       "      <th></th>\n",
       "      <th>Name</th>\n",
       "      <th>Age</th>\n",
       "      <th>Sex</th>\n",
       "    </tr>\n",
       "  </thead>\n",
       "  <tbody>\n",
       "    <tr>\n",
       "      <th>0</th>\n",
       "      <td>Braund, Mr. Owen Harris</td>\n",
       "      <td>22</td>\n",
       "      <td>male</td>\n",
       "    </tr>\n",
       "    <tr>\n",
       "      <th>1</th>\n",
       "      <td>Allen, Mr. William Henry</td>\n",
       "      <td>35</td>\n",
       "      <td>male</td>\n",
       "    </tr>\n",
       "    <tr>\n",
       "      <th>2</th>\n",
       "      <td>Bonnell, Miss. Elizabeth</td>\n",
       "      <td>58</td>\n",
       "      <td>female</td>\n",
       "    </tr>\n",
       "  </tbody>\n",
       "</table>\n",
       "</div>"
      ],
      "text/plain": [
       "                       Name  Age     Sex\n",
       "0   Braund, Mr. Owen Harris   22    male\n",
       "1  Allen, Mr. William Henry   35    male\n",
       "2  Bonnell, Miss. Elizabeth   58  female"
      ]
     },
     "execution_count": 2,
     "metadata": {},
     "output_type": "execute_result"
    }
   ],
   "source": [
    "df = pd.DataFrame(\n",
    "        {\n",
    "            \"Name\": [\n",
    "                \"Braund, Mr. Owen Harris\",\n",
    "                \"Allen, Mr. William Henry\",\n",
    "                \"Bonnell, Miss. Elizabeth\",\n",
    "            ],\n",
    "            \"Age\": [22, 35, 58],\n",
    "            \"Sex\": [\"male\", \"male\", \"female\"],\n",
    "        }\n",
    "    )\n",
    "    \n",
    "\n",
    "df \n",
    "\n",
    "# In Jupyter notebooks (and other interactive Python/IPython environments), simply typing the variable name in a cell (e.g. df) automatically calls the “display” mechanism, showing a formatted preview of that DataFrame in the notebook.\n",
    "\n",
    "# In a regular Python script (for example, if you run python file.py from the command line), simply typing a variable name like df does nothing by itself. You would need to explicitly print it, for instance with print(df), to see any output.\n",
    "\n",
    "# So, in short:\n",
    "\n",
    "# In a notebook, df on its own line will display the DataFrame (because of the interactive environment’s display hook).\n",
    "# In a regular Python program, you need print(df) (or some other method) to output or log the DataFrame to the console."
   ]
  },
  {
   "cell_type": "markdown",
   "id": "bc515cd0-8c51-4493-8f78-f9bf65d35c26",
   "metadata": {},
   "source": [
    "To manually store data in a table, create a DataFrame. \n",
    "- When using a Python dictionary of lists:\n",
    "    - the dict keys will be used as column headers\n",
    "    - the values in each list will be used as the columns of the DataFrame\n",
    "\n",
    "**Recap**:\n",
    "A **DataFrame** is a 2-dimensional structure that can store data of different types (characters, integers, floating points, categorical data etc.) in columns\n",
    "A **DataFrame** is similar to a spreadsheet, SQL table or data.frame in R.\n",
    "\n",
    "The table above has:\n",
    "- 3 columns, each of them with a column label. The column labels are respectively `Name`, `Age` and `Sex`.\n",
    "\n",
    "- The column `Name` consists of textual data with each value a string, the column `Age` are numbers and the column `Sex`is textual data."
   ]
  },
  {
   "cell_type": "markdown",
   "id": "a5373500-b427-4697-bad7-81e09b8bbcc0",
   "metadata": {},
   "source": [
    "### Each column in a `DataFrame` is a `Series`\n",
    "\n",
    "So, let's imagine I am only interested in workinmg with the data in the column, `Age`."
   ]
  },
  {
   "cell_type": "code",
   "execution_count": 3,
   "id": "dc3dbb8e-de18-4499-9d7e-dde1aae56b80",
   "metadata": {},
   "outputs": [
    {
     "data": {
      "text/plain": [
       "0    22\n",
       "1    35\n",
       "2    58\n",
       "Name: Age, dtype: int64"
      ]
     },
     "execution_count": 3,
     "metadata": {},
     "output_type": "execute_result"
    }
   ],
   "source": [
    "df[\"Age\"]"
   ]
  },
  {
   "cell_type": "markdown",
   "id": "9db79aa4-f850-4156-a05c-40a1e603c2ac",
   "metadata": {},
   "source": [
    "When selecting a single column of a pandas `DataFrame`, the result is a pandas `Series`. To select the column, use the column label in between square brackets [].\n",
    "\n",
    "(If you are familiar with Python dictionaries, the selection of a single column is very similar to the selection of dictionary values based on the key.)"
   ]
  },
  {
   "cell_type": "markdown",
   "id": "9ea15998-057f-4c87-bbca-b0ed08e00cb3",
   "metadata": {},
   "source": [
    "If we wanted to, we could also make a pandas `Series` from scratch:`\n"
   ]
  },
  {
   "cell_type": "code",
   "execution_count": 4,
   "id": "736e5b68-22f3-48f1-8ea2-404405cb1a28",
   "metadata": {},
   "outputs": [
    {
     "data": {
      "text/plain": [
       "0      22\n",
       "1    3335\n",
       "2      68\n",
       "Name: Age, dtype: int64"
      ]
     },
     "execution_count": 4,
     "metadata": {},
     "output_type": "execute_result"
    }
   ],
   "source": [
    "ages = pd.Series([22,3335,68], name=\"Age\")\n",
    "ages"
   ]
  },
  {
   "cell_type": "raw",
   "id": "bbde7ed6-4ec4-4950-8598-a274d5c63d9f",
   "metadata": {},
   "source": [
    "Notice that a pandas `Series` has no column labels --> it's just a data-centric column of a DataFrame. BUT, a `Series` does have row-labels."
   ]
  },
  {
   "cell_type": "markdown",
   "id": "fad80c54-5cc5-4475-9561-f99f841b4c5b",
   "metadata": {},
   "source": [
    "## Do something with a DataFrame or Series\n",
    "\n",
    "I want to know the maximum Age of the passengers...\n",
    "\n",
    "we can do this by selecting the `Age` column of the DF and applying the max()"
   ]
  },
  {
   "cell_type": "code",
   "execution_count": 5,
   "id": "cc9d4631-23ff-4df7-8ce6-c6077eba0a4d",
   "metadata": {},
   "outputs": [
    {
     "data": {
      "text/plain": [
       "58"
      ]
     },
     "execution_count": 5,
     "metadata": {},
     "output_type": "execute_result"
    }
   ],
   "source": [
    "df[\"Age\"].max()\n"
   ]
  },
  {
   "cell_type": "markdown",
   "id": "45d59395-f10c-4595-bbf9-68f8fb1f32e3",
   "metadata": {},
   "source": [
    "As illustrated by the `max()` method, we can do things with a DataFrame or Series. Pandas provides a lot of functionalities, each of them a method you can apply to a DataFrame or Series. As methods are functions, do not forget to use parentheses (). "
   ]
  },
  {
   "cell_type": "markdown",
   "id": "60d0c7e9-9659-4ffd-aae9-f2657f42bbd6",
   "metadata": {},
   "source": [
    "Now, I’m interested in some basic statistics of the numerical data of my data table"
   ]
  },
  {
   "cell_type": "code",
   "execution_count": 6,
   "id": "5a559968-8c47-4b78-b500-cf70c2c1c578",
   "metadata": {},
   "outputs": [
    {
     "data": {
      "text/html": [
       "<div>\n",
       "<style scoped>\n",
       "    .dataframe tbody tr th:only-of-type {\n",
       "        vertical-align: middle;\n",
       "    }\n",
       "\n",
       "    .dataframe tbody tr th {\n",
       "        vertical-align: top;\n",
       "    }\n",
       "\n",
       "    .dataframe thead th {\n",
       "        text-align: right;\n",
       "    }\n",
       "</style>\n",
       "<table border=\"1\" class=\"dataframe\">\n",
       "  <thead>\n",
       "    <tr style=\"text-align: right;\">\n",
       "      <th></th>\n",
       "      <th>Age</th>\n",
       "    </tr>\n",
       "  </thead>\n",
       "  <tbody>\n",
       "    <tr>\n",
       "      <th>count</th>\n",
       "      <td>3.000000</td>\n",
       "    </tr>\n",
       "    <tr>\n",
       "      <th>mean</th>\n",
       "      <td>38.333333</td>\n",
       "    </tr>\n",
       "    <tr>\n",
       "      <th>std</th>\n",
       "      <td>18.230012</td>\n",
       "    </tr>\n",
       "    <tr>\n",
       "      <th>min</th>\n",
       "      <td>22.000000</td>\n",
       "    </tr>\n",
       "    <tr>\n",
       "      <th>25%</th>\n",
       "      <td>28.500000</td>\n",
       "    </tr>\n",
       "    <tr>\n",
       "      <th>50%</th>\n",
       "      <td>35.000000</td>\n",
       "    </tr>\n",
       "    <tr>\n",
       "      <th>75%</th>\n",
       "      <td>46.500000</td>\n",
       "    </tr>\n",
       "    <tr>\n",
       "      <th>max</th>\n",
       "      <td>58.000000</td>\n",
       "    </tr>\n",
       "  </tbody>\n",
       "</table>\n",
       "</div>"
      ],
      "text/plain": [
       "             Age\n",
       "count   3.000000\n",
       "mean   38.333333\n",
       "std    18.230012\n",
       "min    22.000000\n",
       "25%    28.500000\n",
       "50%    35.000000\n",
       "75%    46.500000\n",
       "max    58.000000"
      ]
     },
     "execution_count": 6,
     "metadata": {},
     "output_type": "execute_result"
    }
   ],
   "source": [
    "df.describe()"
   ]
  },
  {
   "cell_type": "markdown",
   "id": "01e73f8f-e3ae-46e1-a3ab-c775e38cbe5b",
   "metadata": {},
   "source": [
    "The `describe()` method provides a quick overview of the numerical data in a DataFrame. As the Name and Sex columns are textual data, these are by default not taken into account by the describe() method.\n",
    "- Many pandas operations return a DataFrame or a Series. The describe() method is an example of a pandas operation returning a pandas Series or a pandas DataFrame."
   ]
  },
  {
   "cell_type": "markdown",
   "id": "2f4559a0-781f-4f32-9ea9-1e3ae31c2c32",
   "metadata": {},
   "source": [
    "This is just a starting point. \n",
    "Similar to spreadsheet software, pandas represents data as a table with columns and rows. \n",
    "Apart from the representation, also the data manipulations and calculations you would do in spreadsheet software are supported by pandas. \n",
    "Continue reading the next tutorials to get started!"
   ]
  },
  {
   "cell_type": "markdown",
   "id": "d0cbb05d-c945-479f-8794-bf7aee2c92c6",
   "metadata": {},
   "source": [
    "**REMEMBER**\n",
    "\n",
    "- Import the package, aka import pandas as pd\n",
    "\n",
    "- A table of data is stored as a pandas DataFrame\n",
    "\n",
    "- Each column in a DataFrame is a Series\n",
    "\n",
    "- You can do things by applying a method to a DataFrame or Series"
   ]
  },
  {
   "cell_type": "code",
   "execution_count": null,
   "id": "7d7ea13d-d42d-4115-9b05-793cb44bf136",
   "metadata": {},
   "outputs": [],
   "source": []
  }
 ],
 "metadata": {
  "kernelspec": {
   "display_name": "Python [conda env:myenv]",
   "language": "python",
   "name": "conda-env-myenv-py"
  },
  "language_info": {
   "codemirror_mode": {
    "name": "ipython",
    "version": 3
   },
   "file_extension": ".py",
   "mimetype": "text/x-python",
   "name": "python",
   "nbconvert_exporter": "python",
   "pygments_lexer": "ipython3",
   "version": "3.10.16"
  }
 },
 "nbformat": 4,
 "nbformat_minor": 5
}

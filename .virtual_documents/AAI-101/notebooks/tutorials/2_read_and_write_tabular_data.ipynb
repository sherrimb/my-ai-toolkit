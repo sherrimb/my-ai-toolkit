


import pandas as pd








titanic = pd.read_csv("../../data/titanic.csv")





titanic.head(8)











titanic.dtypes











titanic.to_excel("../data/titanic.xlsx", sheet_name="passengers", index=False)








titanic = pd.read_excel("../data/titanic.xlsx", sheet_name="passengers")


titanic.tail(19)





titanic.info()













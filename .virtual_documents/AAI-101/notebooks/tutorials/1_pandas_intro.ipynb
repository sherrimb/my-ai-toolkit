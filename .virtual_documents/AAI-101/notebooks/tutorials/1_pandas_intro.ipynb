


import pandas as pd





df = pd.DataFrame(
        {
            "Name": [
                "Braund, Mr. Owen Harris",
                "Allen, Mr. William Henry",
                "Bonnell, Miss. Elizabeth",
            ],
            "Age": [22, 35, 58],
            "Sex": ["male", "male", "female"],
        }
    )
    

df 

# In Jupyter notebooks (and other interactive Python/IPython environments), simply typing the variable name in a cell (e.g. df) automatically calls the “display” mechanism, showing a formatted preview of that DataFrame in the notebook.

# In a regular Python script (for example, if you run python file.py from the command line), simply typing a variable name like df does nothing by itself. You would need to explicitly print it, for instance with print(df), to see any output.

# So, in short:

# In a notebook, df on its own line will display the DataFrame (because of the interactive environment’s display hook).
# In a regular Python program, you need print(df) (or some other method) to output or log the DataFrame to the console.








df["Age"]








ages = pd.Series([22,3335,68], name="Age")
ages








df["Age"].max()









df.describe()
















import pandas as pd



titanic = pd.read_csv("../../data/titanic.csv")

titanic.head()





titanic["Name"].str.lower()





titanic["Name"].str.split(",")





titanic["Surname"] = titanic["Name"].str.split(",").str.get(0)


titanic["Surname"]





titanic["Name"].str.contains("Countess")


titanic[titanic["Name"].str.contains("Countess")]





titanic["Name"].str.len()





titanic["Name"].str.len().idxmax()





titanic.loc[titanic["Name"].str.len().idxmax(), "Name"]





titanic["Sex_short"] = titanic["Sex"].replace({"male":"M","female":"F"})
titanic["Sex_short"]









